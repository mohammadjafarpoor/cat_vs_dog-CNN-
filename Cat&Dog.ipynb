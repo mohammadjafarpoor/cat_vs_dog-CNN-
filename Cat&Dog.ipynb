{
 "cells": [
  {
   "cell_type": "markdown",
   "id": "4a59bc92",
   "metadata": {
    "id": "WlCylvdUqUUU",
    "papermill": {
     "duration": 0.008856,
     "end_time": "2022-02-08T17:13:58.036525",
     "exception": false,
     "start_time": "2022-02-08T17:13:58.027669",
     "status": "completed"
    },
    "tags": []
   },
   "source": [
    "## Import tools"
   ]
  },
  {
   "cell_type": "code",
   "execution_count": 1,
   "id": "10f1372c",
   "metadata": {
    "execution": {
     "iopub.execute_input": "2022-02-08T17:13:58.063358Z",
     "iopub.status.busy": "2022-02-08T17:13:58.062628Z",
     "iopub.status.idle": "2022-02-08T17:14:05.771904Z",
     "shell.execute_reply": "2022-02-08T17:14:05.772424Z",
     "shell.execute_reply.started": "2022-02-08T15:31:05.721246Z"
    },
    "id": "A029RLraqXzb",
    "papermill": {
     "duration": 7.72695,
     "end_time": "2022-02-08T17:14:05.772743",
     "exception": false,
     "start_time": "2022-02-08T17:13:58.045793",
     "status": "completed"
    },
    "tags": []
   },
   "outputs": [],
   "source": [
    "import os\n",
    "from distutils.dir_util import copy_tree\n",
    "import matplotlib.pyplot as plt\n",
    "import tensorflow as tf\n",
    "from tensorflow import keras\n",
    "from tensorflow.keras import preprocessing\n",
    "from tensorflow.keras import Sequential\n",
    "from tensorflow.keras.callbacks import EarlyStopping, ReduceLROnPlateau\n",
    "from tensorflow.keras.layers import BatchNormalization, Conv2D, MaxPooling2D, Dense, Dropout, Flatten, experimental"
   ]
  },
  {
   "cell_type": "code",
   "execution_count": 2,
   "id": "409b832c",
   "metadata": {
    "execution": {
     "iopub.execute_input": "2022-02-08T17:14:05.793964Z",
     "iopub.status.busy": "2022-02-08T17:14:05.792702Z",
     "iopub.status.idle": "2022-02-08T17:18:16.799539Z",
     "shell.execute_reply": "2022-02-08T17:18:16.800138Z",
     "shell.execute_reply.started": "2022-02-08T15:31:05.735099Z"
    },
    "id": "gBdDUG2UB3C_",
    "papermill": {
     "duration": 251.019209,
     "end_time": "2022-02-08T17:18:16.800555",
     "exception": false,
     "start_time": "2022-02-08T17:14:05.781346",
     "status": "completed"
    },
    "tags": []
   },
   "outputs": [
    {
     "data": {
      "text/plain": [
       "['/kaggle/working/PetImages/Dog/7981.jpg',\n",
       " '/kaggle/working/PetImages/Dog/6234.jpg',\n",
       " '/kaggle/working/PetImages/Dog/1269.jpg',\n",
       " '/kaggle/working/PetImages/Dog/3863.jpg',\n",
       " '/kaggle/working/PetImages/Dog/6241.jpg',\n",
       " '/kaggle/working/PetImages/Dog/10304.jpg',\n",
       " '/kaggle/working/PetImages/Dog/623.jpg',\n",
       " '/kaggle/working/PetImages/Dog/2193.jpg',\n",
       " '/kaggle/working/PetImages/Dog/11925.jpg',\n",
       " '/kaggle/working/PetImages/Dog/3750.jpg',\n",
       " '/kaggle/working/PetImages/Dog/11378.jpg',\n",
       " '/kaggle/working/PetImages/Dog/2008.jpg',\n",
       " '/kaggle/working/PetImages/Dog/10730.jpg',\n",
       " '/kaggle/working/PetImages/Dog/5982.jpg',\n",
       " '/kaggle/working/PetImages/Dog/7737.jpg',\n",
       " '/kaggle/working/PetImages/Dog/2081.jpg',\n",
       " '/kaggle/working/PetImages/Dog/10597.jpg',\n",
       " '/kaggle/working/PetImages/Dog/6588.jpg',\n",
       " '/kaggle/working/PetImages/Dog/10054.jpg',\n",
       " '/kaggle/working/PetImages/Dog/7966.jpg',\n",
       " '/kaggle/working/PetImages/Dog/3919.jpg',\n",
       " '/kaggle/working/PetImages/Dog/6197.jpg',\n",
       " '/kaggle/working/PetImages/Dog/10924.jpg',\n",
       " '/kaggle/working/PetImages/Dog/6399.jpg',\n",
       " '/kaggle/working/PetImages/Dog/9960.jpg',\n",
       " '/kaggle/working/PetImages/Dog/3757.jpg',\n",
       " '/kaggle/working/PetImages/Dog/9131.jpg',\n",
       " '/kaggle/working/PetImages/Dog/9620.jpg',\n",
       " '/kaggle/working/PetImages/Dog/9062.jpg',\n",
       " '/kaggle/working/PetImages/Dog/4489.jpg',\n",
       " '/kaggle/working/PetImages/Dog/3138.jpg',\n",
       " '/kaggle/working/PetImages/Dog/10213.jpg',\n",
       " '/kaggle/working/PetImages/Dog/3417.jpg',\n",
       " '/kaggle/working/PetImages/Dog/6074.jpg',\n",
       " '/kaggle/working/PetImages/Dog/5705.jpg',\n",
       " '/kaggle/working/PetImages/Dog/8953.jpg',\n",
       " '/kaggle/working/PetImages/Dog/764.jpg',\n",
       " '/kaggle/working/PetImages/Dog/5307.jpg',\n",
       " '/kaggle/working/PetImages/Dog/7894.jpg',\n",
       " '/kaggle/working/PetImages/Dog/5039.jpg',\n",
       " '/kaggle/working/PetImages/Dog/10305.jpg',\n",
       " '/kaggle/working/PetImages/Dog/4407.jpg',\n",
       " '/kaggle/working/PetImages/Dog/1700.jpg',\n",
       " '/kaggle/working/PetImages/Dog/1786.jpg',\n",
       " '/kaggle/working/PetImages/Dog/2907.jpg',\n",
       " '/kaggle/working/PetImages/Dog/8930.jpg',\n",
       " '/kaggle/working/PetImages/Dog/11138.jpg',\n",
       " '/kaggle/working/PetImages/Dog/6324.jpg',\n",
       " '/kaggle/working/PetImages/Dog/1075.jpg',\n",
       " '/kaggle/working/PetImages/Dog/4969.jpg',\n",
       " '/kaggle/working/PetImages/Dog/8983.jpg',\n",
       " '/kaggle/working/PetImages/Dog/5584.jpg',\n",
       " '/kaggle/working/PetImages/Dog/10627.jpg',\n",
       " '/kaggle/working/PetImages/Dog/9697.jpg',\n",
       " '/kaggle/working/PetImages/Dog/3501.jpg',\n",
       " '/kaggle/working/PetImages/Dog/10037.jpg',\n",
       " '/kaggle/working/PetImages/Dog/2863.jpg',\n",
       " '/kaggle/working/PetImages/Dog/771.jpg',\n",
       " '/kaggle/working/PetImages/Dog/8352.jpg',\n",
       " '/kaggle/working/PetImages/Dog/208.jpg',\n",
       " '/kaggle/working/PetImages/Dog/12167.jpg',\n",
       " '/kaggle/working/PetImages/Dog/11868.jpg',\n",
       " '/kaggle/working/PetImages/Dog/4640.jpg',\n",
       " '/kaggle/working/PetImages/Dog/7222.jpg',\n",
       " '/kaggle/working/PetImages/Dog/5333.jpg',\n",
       " '/kaggle/working/PetImages/Dog/4125.jpg',\n",
       " '/kaggle/working/PetImages/Dog/6560.jpg',\n",
       " '/kaggle/working/PetImages/Dog/2628.jpg',\n",
       " '/kaggle/working/PetImages/Dog/10162.jpg',\n",
       " '/kaggle/working/PetImages/Dog/8104.jpg',\n",
       " '/kaggle/working/PetImages/Dog/3363.jpg',\n",
       " '/kaggle/working/PetImages/Dog/4009.jpg',\n",
       " '/kaggle/working/PetImages/Dog/9645.jpg',\n",
       " '/kaggle/working/PetImages/Dog/9579.jpg',\n",
       " '/kaggle/working/PetImages/Dog/820.jpg',\n",
       " '/kaggle/working/PetImages/Dog/6943.jpg',\n",
       " '/kaggle/working/PetImages/Dog/3228.jpg',\n",
       " '/kaggle/working/PetImages/Dog/12132.jpg',\n",
       " '/kaggle/working/PetImages/Dog/8075.jpg',\n",
       " '/kaggle/working/PetImages/Dog/6272.jpg',\n",
       " '/kaggle/working/PetImages/Dog/1789.jpg',\n",
       " '/kaggle/working/PetImages/Dog/6365.jpg',\n",
       " '/kaggle/working/PetImages/Dog/6459.jpg',\n",
       " '/kaggle/working/PetImages/Dog/5052.jpg',\n",
       " '/kaggle/working/PetImages/Dog/7690.jpg',\n",
       " '/kaggle/working/PetImages/Dog/6653.jpg',\n",
       " '/kaggle/working/PetImages/Dog/473.jpg',\n",
       " '/kaggle/working/PetImages/Dog/8864.jpg',\n",
       " '/kaggle/working/PetImages/Dog/3446.jpg',\n",
       " '/kaggle/working/PetImages/Dog/11034.jpg',\n",
       " '/kaggle/working/PetImages/Dog/1792.jpg',\n",
       " '/kaggle/working/PetImages/Dog/4772.jpg',\n",
       " '/kaggle/working/PetImages/Dog/7427.jpg',\n",
       " '/kaggle/working/PetImages/Dog/8623.jpg',\n",
       " '/kaggle/working/PetImages/Dog/7006.jpg',\n",
       " '/kaggle/working/PetImages/Dog/2936.jpg',\n",
       " '/kaggle/working/PetImages/Dog/2029.jpg',\n",
       " '/kaggle/working/PetImages/Dog/6925.jpg',\n",
       " '/kaggle/working/PetImages/Dog/4313.jpg',\n",
       " '/kaggle/working/PetImages/Dog/6295.jpg',\n",
       " '/kaggle/working/PetImages/Dog/5018.jpg',\n",
       " '/kaggle/working/PetImages/Dog/10201.jpg',\n",
       " '/kaggle/working/PetImages/Dog/8914.jpg',\n",
       " '/kaggle/working/PetImages/Dog/11251.jpg',\n",
       " '/kaggle/working/PetImages/Dog/1411.jpg',\n",
       " '/kaggle/working/PetImages/Dog/7918.jpg',\n",
       " '/kaggle/working/PetImages/Dog/4275.jpg',\n",
       " '/kaggle/working/PetImages/Dog/7245.jpg',\n",
       " '/kaggle/working/PetImages/Dog/3532.jpg',\n",
       " '/kaggle/working/PetImages/Dog/7802.jpg',\n",
       " '/kaggle/working/PetImages/Dog/1031.jpg',\n",
       " '/kaggle/working/PetImages/Dog/1833.jpg',\n",
       " '/kaggle/working/PetImages/Dog/11617.jpg',\n",
       " '/kaggle/working/PetImages/Dog/12389.jpg',\n",
       " '/kaggle/working/PetImages/Dog/2675.jpg',\n",
       " '/kaggle/working/PetImages/Dog/5627.jpg',\n",
       " '/kaggle/working/PetImages/Dog/6800.jpg',\n",
       " '/kaggle/working/PetImages/Dog/7962.jpg',\n",
       " '/kaggle/working/PetImages/Dog/11921.jpg',\n",
       " '/kaggle/working/PetImages/Dog/10255.jpg',\n",
       " '/kaggle/working/PetImages/Dog/10825.jpg',\n",
       " '/kaggle/working/PetImages/Dog/12414.jpg',\n",
       " '/kaggle/working/PetImages/Dog/11236.jpg',\n",
       " '/kaggle/working/PetImages/Dog/12267.jpg',\n",
       " '/kaggle/working/PetImages/Dog/2172.jpg',\n",
       " '/kaggle/working/PetImages/Dog/4765.jpg',\n",
       " '/kaggle/working/PetImages/Dog/6209.jpg',\n",
       " '/kaggle/working/PetImages/Dog/6899.jpg',\n",
       " '/kaggle/working/PetImages/Dog/8442.jpg',\n",
       " '/kaggle/working/PetImages/Dog/11522.jpg',\n",
       " '/kaggle/working/PetImages/Dog/5068.jpg',\n",
       " '/kaggle/working/PetImages/Dog/11529.jpg',\n",
       " '/kaggle/working/PetImages/Dog/11956.jpg',\n",
       " '/kaggle/working/PetImages/Dog/6229.jpg',\n",
       " '/kaggle/working/PetImages/Dog/1749.jpg',\n",
       " '/kaggle/working/PetImages/Dog/1501.jpg',\n",
       " '/kaggle/working/PetImages/Dog/9606.jpg',\n",
       " '/kaggle/working/PetImages/Dog/11684.jpg',\n",
       " '/kaggle/working/PetImages/Dog/8543.jpg',\n",
       " '/kaggle/working/PetImages/Dog/2021.jpg',\n",
       " '/kaggle/working/PetImages/Dog/11855.jpg',\n",
       " '/kaggle/working/PetImages/Dog/5886.jpg',\n",
       " '/kaggle/working/PetImages/Dog/7384.jpg',\n",
       " '/kaggle/working/PetImages/Dog/3899.jpg',\n",
       " '/kaggle/working/PetImages/Dog/1995.jpg',\n",
       " '/kaggle/working/PetImages/Dog/5477.jpg',\n",
       " '/kaggle/working/PetImages/Dog/1385.jpg',\n",
       " '/kaggle/working/PetImages/Dog/3651.jpg',\n",
       " '/kaggle/working/PetImages/Dog/8342.jpg',\n",
       " '/kaggle/working/PetImages/Dog/7544.jpg',\n",
       " '/kaggle/working/PetImages/Dog/4398.jpg',\n",
       " '/kaggle/working/PetImages/Dog/4581.jpg',\n",
       " '/kaggle/working/PetImages/Dog/12334.jpg',\n",
       " '/kaggle/working/PetImages/Dog/3537.jpg',\n",
       " '/kaggle/working/PetImages/Dog/5575.jpg',\n",
       " '/kaggle/working/PetImages/Dog/2278.jpg',\n",
       " '/kaggle/working/PetImages/Dog/11901.jpg',\n",
       " '/kaggle/working/PetImages/Dog/6831.jpg',\n",
       " '/kaggle/working/PetImages/Dog/8929.jpg',\n",
       " '/kaggle/working/PetImages/Dog/1971.jpg',\n",
       " '/kaggle/working/PetImages/Dog/6248.jpg',\n",
       " '/kaggle/working/PetImages/Dog/7061.jpg',\n",
       " '/kaggle/working/PetImages/Dog/12303.jpg',\n",
       " '/kaggle/working/PetImages/Dog/3807.jpg',\n",
       " '/kaggle/working/PetImages/Dog/1383.jpg',\n",
       " '/kaggle/working/PetImages/Dog/9887.jpg',\n",
       " '/kaggle/working/PetImages/Dog/6337.jpg',\n",
       " '/kaggle/working/PetImages/Dog/8612.jpg',\n",
       " '/kaggle/working/PetImages/Dog/11382.jpg',\n",
       " '/kaggle/working/PetImages/Dog/8218.jpg',\n",
       " '/kaggle/working/PetImages/Dog/333.jpg',\n",
       " '/kaggle/working/PetImages/Dog/8379.jpg',\n",
       " '/kaggle/working/PetImages/Dog/1354.jpg',\n",
       " '/kaggle/working/PetImages/Dog/11087.jpg',\n",
       " '/kaggle/working/PetImages/Dog/5976.jpg',\n",
       " '/kaggle/working/PetImages/Dog/1024.jpg',\n",
       " '/kaggle/working/PetImages/Dog/537.jpg',\n",
       " '/kaggle/working/PetImages/Dog/6513.jpg',\n",
       " '/kaggle/working/PetImages/Dog/7706.jpg',\n",
       " '/kaggle/working/PetImages/Dog/10039.jpg',\n",
       " '/kaggle/working/PetImages/Dog/3014.jpg',\n",
       " '/kaggle/working/PetImages/Dog/8120.jpg',\n",
       " '/kaggle/working/PetImages/Dog/5147.jpg',\n",
       " '/kaggle/working/PetImages/Dog/45.jpg',\n",
       " '/kaggle/working/PetImages/Dog/2375.jpg',\n",
       " '/kaggle/working/PetImages/Dog/7941.jpg',\n",
       " '/kaggle/working/PetImages/Dog/11848.jpg',\n",
       " '/kaggle/working/PetImages/Dog/10550.jpg',\n",
       " '/kaggle/working/PetImages/Dog/9486.jpg',\n",
       " '/kaggle/working/PetImages/Dog/369.jpg',\n",
       " '/kaggle/working/PetImages/Dog/1626.jpg',\n",
       " '/kaggle/working/PetImages/Dog/6493.jpg',\n",
       " '/kaggle/working/PetImages/Dog/5734.jpg',\n",
       " '/kaggle/working/PetImages/Dog/56.jpg',\n",
       " '/kaggle/working/PetImages/Dog/6797.jpg',\n",
       " '/kaggle/working/PetImages/Dog/8444.jpg',\n",
       " '/kaggle/working/PetImages/Dog/654.jpg',\n",
       " '/kaggle/working/PetImages/Dog/10598.jpg',\n",
       " '/kaggle/working/PetImages/Dog/4437.jpg',\n",
       " '/kaggle/working/PetImages/Dog/6794.jpg',\n",
       " '/kaggle/working/PetImages/Dog/9462.jpg',\n",
       " '/kaggle/working/PetImages/Dog/11682.jpg',\n",
       " '/kaggle/working/PetImages/Dog/8643.jpg',\n",
       " '/kaggle/working/PetImages/Dog/9493.jpg',\n",
       " '/kaggle/working/PetImages/Dog/89.jpg',\n",
       " '/kaggle/working/PetImages/Dog/1711.jpg',\n",
       " '/kaggle/working/PetImages/Dog/11428.jpg',\n",
       " '/kaggle/working/PetImages/Dog/6367.jpg',\n",
       " '/kaggle/working/PetImages/Dog/12328.jpg',\n",
       " '/kaggle/working/PetImages/Dog/5853.jpg',\n",
       " '/kaggle/working/PetImages/Dog/12068.jpg',\n",
       " '/kaggle/working/PetImages/Dog/5534.jpg',\n",
       " '/kaggle/working/PetImages/Dog/20.jpg',\n",
       " '/kaggle/working/PetImages/Dog/7516.jpg',\n",
       " '/kaggle/working/PetImages/Dog/9083.jpg',\n",
       " '/kaggle/working/PetImages/Dog/1339.jpg',\n",
       " '/kaggle/working/PetImages/Dog/6894.jpg',\n",
       " '/kaggle/working/PetImages/Dog/4979.jpg',\n",
       " '/kaggle/working/PetImages/Dog/12101.jpg',\n",
       " '/kaggle/working/PetImages/Dog/12205.jpg',\n",
       " '/kaggle/working/PetImages/Dog/9251.jpg',\n",
       " '/kaggle/working/PetImages/Dog/8003.jpg',\n",
       " '/kaggle/working/PetImages/Dog/5392.jpg',\n",
       " '/kaggle/working/PetImages/Dog/6952.jpg',\n",
       " '/kaggle/working/PetImages/Dog/4351.jpg',\n",
       " '/kaggle/working/PetImages/Dog/10062.jpg',\n",
       " '/kaggle/working/PetImages/Dog/9589.jpg',\n",
       " '/kaggle/working/PetImages/Dog/6059.jpg',\n",
       " '/kaggle/working/PetImages/Dog/275.jpg',\n",
       " '/kaggle/working/PetImages/Dog/10075.jpg',\n",
       " '/kaggle/working/PetImages/Dog/6458.jpg',\n",
       " '/kaggle/working/PetImages/Dog/3670.jpg',\n",
       " '/kaggle/working/PetImages/Dog/5882.jpg',\n",
       " '/kaggle/working/PetImages/Dog/2532.jpg',\n",
       " '/kaggle/working/PetImages/Dog/11058.jpg',\n",
       " '/kaggle/working/PetImages/Dog/1161.jpg',\n",
       " '/kaggle/working/PetImages/Dog/11849.jpg',\n",
       " '/kaggle/working/PetImages/Dog/9868.jpg',\n",
       " '/kaggle/working/PetImages/Dog/785.jpg',\n",
       " '/kaggle/working/PetImages/Dog/2262.jpg',\n",
       " '/kaggle/working/PetImages/Dog/10611.jpg',\n",
       " '/kaggle/working/PetImages/Dog/2213.jpg',\n",
       " '/kaggle/working/PetImages/Dog/9336.jpg',\n",
       " '/kaggle/working/PetImages/Dog/3645.jpg',\n",
       " '/kaggle/working/PetImages/Dog/1940.jpg',\n",
       " '/kaggle/working/PetImages/Dog/1777.jpg',\n",
       " '/kaggle/working/PetImages/Dog/8328.jpg',\n",
       " '/kaggle/working/PetImages/Dog/1380.jpg',\n",
       " '/kaggle/working/PetImages/Dog/9999.jpg',\n",
       " '/kaggle/working/PetImages/Dog/11690.jpg',\n",
       " '/kaggle/working/PetImages/Dog/4899.jpg',\n",
       " '/kaggle/working/PetImages/Dog/11524.jpg',\n",
       " '/kaggle/working/PetImages/Dog/11895.jpg',\n",
       " '/kaggle/working/PetImages/Dog/6924.jpg',\n",
       " '/kaggle/working/PetImages/Dog/212.jpg',\n",
       " '/kaggle/working/PetImages/Dog/7440.jpg',\n",
       " '/kaggle/working/PetImages/Dog/5482.jpg',\n",
       " '/kaggle/working/PetImages/Dog/6867.jpg',\n",
       " '/kaggle/working/PetImages/Dog/5852.jpg',\n",
       " '/kaggle/working/PetImages/Dog/239.jpg',\n",
       " '/kaggle/working/PetImages/Dog/4081.jpg',\n",
       " '/kaggle/working/PetImages/Dog/792.jpg',\n",
       " '/kaggle/working/PetImages/Dog/2057.jpg',\n",
       " '/kaggle/working/PetImages/Dog/1009.jpg',\n",
       " '/kaggle/working/PetImages/Dog/6196.jpg',\n",
       " '/kaggle/working/PetImages/Dog/3295.jpg',\n",
       " '/kaggle/working/PetImages/Dog/5371.jpg',\n",
       " '/kaggle/working/PetImages/Dog/8592.jpg',\n",
       " '/kaggle/working/PetImages/Dog/5941.jpg',\n",
       " '/kaggle/working/PetImages/Dog/5158.jpg',\n",
       " '/kaggle/working/PetImages/Dog/3937.jpg',\n",
       " '/kaggle/working/PetImages/Dog/6917.jpg',\n",
       " '/kaggle/working/PetImages/Dog/10651.jpg',\n",
       " '/kaggle/working/PetImages/Dog/9388.jpg',\n",
       " '/kaggle/working/PetImages/Dog/10880.jpg',\n",
       " '/kaggle/working/PetImages/Dog/2094.jpg',\n",
       " '/kaggle/working/PetImages/Dog/1157.jpg',\n",
       " '/kaggle/working/PetImages/Dog/12493.jpg',\n",
       " '/kaggle/working/PetImages/Dog/58.jpg',\n",
       " '/kaggle/working/PetImages/Dog/2302.jpg',\n",
       " '/kaggle/working/PetImages/Dog/12421.jpg',\n",
       " '/kaggle/working/PetImages/Dog/6190.jpg',\n",
       " '/kaggle/working/PetImages/Dog/8340.jpg',\n",
       " '/kaggle/working/PetImages/Dog/3816.jpg',\n",
       " '/kaggle/working/PetImages/Dog/2695.jpg',\n",
       " '/kaggle/working/PetImages/Dog/10849.jpg',\n",
       " '/kaggle/working/PetImages/Dog/1304.jpg',\n",
       " '/kaggle/working/PetImages/Dog/7512.jpg',\n",
       " '/kaggle/working/PetImages/Dog/6796.jpg',\n",
       " '/kaggle/working/PetImages/Dog/11024.jpg',\n",
       " '/kaggle/working/PetImages/Dog/1340.jpg',\n",
       " '/kaggle/working/PetImages/Dog/1760.jpg',\n",
       " '/kaggle/working/PetImages/Dog/5458.jpg',\n",
       " '/kaggle/working/PetImages/Dog/2028.jpg',\n",
       " '/kaggle/working/PetImages/Dog/4166.jpg',\n",
       " '/kaggle/working/PetImages/Dog/11641.jpg',\n",
       " '/kaggle/working/PetImages/Dog/1173.jpg',\n",
       " '/kaggle/working/PetImages/Dog/6237.jpg',\n",
       " '/kaggle/working/PetImages/Dog/1790.jpg',\n",
       " '/kaggle/working/PetImages/Dog/6000.jpg',\n",
       " '/kaggle/working/PetImages/Dog/6709.jpg',\n",
       " '/kaggle/working/PetImages/Dog/6605.jpg',\n",
       " '/kaggle/working/PetImages/Dog/150.jpg',\n",
       " '/kaggle/working/PetImages/Dog/6719.jpg',\n",
       " '/kaggle/working/PetImages/Dog/2137.jpg',\n",
       " '/kaggle/working/PetImages/Dog/3729.jpg',\n",
       " '/kaggle/working/PetImages/Dog/8445.jpg',\n",
       " '/kaggle/working/PetImages/Dog/6.jpg',\n",
       " '/kaggle/working/PetImages/Dog/3364.jpg',\n",
       " '/kaggle/working/PetImages/Dog/109.jpg',\n",
       " '/kaggle/working/PetImages/Dog/6941.jpg',\n",
       " '/kaggle/working/PetImages/Dog/5998.jpg',\n",
       " '/kaggle/working/PetImages/Dog/8369.jpg',\n",
       " '/kaggle/working/PetImages/Dog/2654.jpg',\n",
       " '/kaggle/working/PetImages/Dog/1650.jpg',\n",
       " '/kaggle/working/PetImages/Dog/11265.jpg',\n",
       " '/kaggle/working/PetImages/Dog/7986.jpg',\n",
       " '/kaggle/working/PetImages/Dog/1211.jpg',\n",
       " '/kaggle/working/PetImages/Dog/12483.jpg',\n",
       " '/kaggle/working/PetImages/Dog/3310.jpg',\n",
       " '/kaggle/working/PetImages/Dog/11751.jpg',\n",
       " '/kaggle/working/PetImages/Dog/8979.jpg',\n",
       " '/kaggle/working/PetImages/Dog/3209.jpg',\n",
       " '/kaggle/working/PetImages/Dog/8367.jpg',\n",
       " '/kaggle/working/PetImages/Dog/4812.jpg',\n",
       " '/kaggle/working/PetImages/Dog/9037.jpg',\n",
       " '/kaggle/working/PetImages/Dog/8852.jpg',\n",
       " '/kaggle/working/PetImages/Dog/5330.jpg',\n",
       " '/kaggle/working/PetImages/Dog/12464.jpg',\n",
       " '/kaggle/working/PetImages/Dog/2319.jpg',\n",
       " '/kaggle/working/PetImages/Dog/6715.jpg',\n",
       " '/kaggle/working/PetImages/Dog/149.jpg',\n",
       " '/kaggle/working/PetImages/Dog/1488.jpg',\n",
       " '/kaggle/working/PetImages/Dog/8026.jpg',\n",
       " '/kaggle/working/PetImages/Dog/11452.jpg',\n",
       " '/kaggle/working/PetImages/Dog/11422.jpg',\n",
       " '/kaggle/working/PetImages/Dog/5056.jpg',\n",
       " '/kaggle/working/PetImages/Dog/9135.jpg',\n",
       " '/kaggle/working/PetImages/Dog/1862.jpg',\n",
       " '/kaggle/working/PetImages/Dog/1167.jpg',\n",
       " '/kaggle/working/PetImages/Dog/11678.jpg',\n",
       " '/kaggle/working/PetImages/Dog/1644.jpg',\n",
       " '/kaggle/working/PetImages/Dog/1539.jpg',\n",
       " '/kaggle/working/PetImages/Dog/10643.jpg',\n",
       " '/kaggle/working/PetImages/Dog/4494.jpg',\n",
       " '/kaggle/working/PetImages/Dog/12424.jpg',\n",
       " '/kaggle/working/PetImages/Dog/2640.jpg',\n",
       " '/kaggle/working/PetImages/Dog/6856.jpg',\n",
       " '/kaggle/working/PetImages/Dog/4373.jpg',\n",
       " '/kaggle/working/PetImages/Dog/187.jpg',\n",
       " '/kaggle/working/PetImages/Dog/521.jpg',\n",
       " '/kaggle/working/PetImages/Dog/436.jpg',\n",
       " '/kaggle/working/PetImages/Dog/10500.jpg',\n",
       " '/kaggle/working/PetImages/Dog/12141.jpg',\n",
       " '/kaggle/working/PetImages/Dog/6203.jpg',\n",
       " '/kaggle/working/PetImages/Dog/8950.jpg',\n",
       " '/kaggle/working/PetImages/Dog/8112.jpg',\n",
       " '/kaggle/working/PetImages/Dog/4439.jpg',\n",
       " '/kaggle/working/PetImages/Dog/12165.jpg',\n",
       " '/kaggle/working/PetImages/Dog/12272.jpg',\n",
       " '/kaggle/working/PetImages/Dog/76.jpg',\n",
       " '/kaggle/working/PetImages/Dog/539.jpg',\n",
       " '/kaggle/working/PetImages/Dog/3330.jpg',\n",
       " '/kaggle/working/PetImages/Dog/2844.jpg',\n",
       " '/kaggle/working/PetImages/Dog/5817.jpg',\n",
       " '/kaggle/working/PetImages/Dog/11321.jpg',\n",
       " '/kaggle/working/PetImages/Dog/5132.jpg',\n",
       " '/kaggle/working/PetImages/Dog/5943.jpg',\n",
       " '/kaggle/working/PetImages/Dog/3732.jpg',\n",
       " '/kaggle/working/PetImages/Dog/9257.jpg',\n",
       " '/kaggle/working/PetImages/Dog/6213.jpg',\n",
       " '/kaggle/working/PetImages/Dog/1355.jpg',\n",
       " '/kaggle/working/PetImages/Dog/355.jpg',\n",
       " '/kaggle/working/PetImages/Dog/11153.jpg',\n",
       " '/kaggle/working/PetImages/Dog/11774.jpg',\n",
       " '/kaggle/working/PetImages/Dog/9859.jpg',\n",
       " '/kaggle/working/PetImages/Dog/11763.jpg',\n",
       " '/kaggle/working/PetImages/Dog/2899.jpg',\n",
       " '/kaggle/working/PetImages/Dog/10538.jpg',\n",
       " '/kaggle/working/PetImages/Dog/5117.jpg',\n",
       " '/kaggle/working/PetImages/Dog/12374.jpg',\n",
       " '/kaggle/working/PetImages/Dog/2041.jpg',\n",
       " '/kaggle/working/PetImages/Dog/9222.jpg',\n",
       " '/kaggle/working/PetImages/Dog/8555.jpg',\n",
       " '/kaggle/working/PetImages/Dog/7468.jpg',\n",
       " '/kaggle/working/PetImages/Dog/8380.jpg',\n",
       " '/kaggle/working/PetImages/Dog/3546.jpg',\n",
       " '/kaggle/working/PetImages/Dog/9364.jpg',\n",
       " '/kaggle/working/PetImages/Dog/10383.jpg',\n",
       " '/kaggle/working/PetImages/Dog/1565.jpg',\n",
       " '/kaggle/working/PetImages/Dog/4815.jpg',\n",
       " '/kaggle/working/PetImages/Dog/516.jpg',\n",
       " '/kaggle/working/PetImages/Dog/8128.jpg',\n",
       " '/kaggle/working/PetImages/Dog/1409.jpg',\n",
       " '/kaggle/working/PetImages/Dog/4039.jpg',\n",
       " '/kaggle/working/PetImages/Dog/71.jpg',\n",
       " '/kaggle/working/PetImages/Dog/7292.jpg',\n",
       " '/kaggle/working/PetImages/Dog/7296.jpg',\n",
       " '/kaggle/working/PetImages/Dog/708.jpg',\n",
       " '/kaggle/working/PetImages/Dog/3539.jpg',\n",
       " '/kaggle/working/PetImages/Dog/1222.jpg',\n",
       " '/kaggle/working/PetImages/Dog/4986.jpg',\n",
       " '/kaggle/working/PetImages/Dog/1154.jpg',\n",
       " '/kaggle/working/PetImages/Dog/11882.jpg',\n",
       " '/kaggle/working/PetImages/Dog/3743.jpg',\n",
       " '/kaggle/working/PetImages/Dog/11619.jpg',\n",
       " '/kaggle/working/PetImages/Dog/6957.jpg',\n",
       " '/kaggle/working/PetImages/Dog/4188.jpg',\n",
       " '/kaggle/working/PetImages/Dog/5091.jpg',\n",
       " '/kaggle/working/PetImages/Dog/11106.jpg',\n",
       " '/kaggle/working/PetImages/Dog/9331.jpg',\n",
       " '/kaggle/working/PetImages/Dog/7338.jpg',\n",
       " '/kaggle/working/PetImages/Dog/474.jpg',\n",
       " '/kaggle/working/PetImages/Dog/5789.jpg',\n",
       " '/kaggle/working/PetImages/Dog/10405.jpg',\n",
       " '/kaggle/working/PetImages/Dog/5386.jpg',\n",
       " '/kaggle/working/PetImages/Dog/9562.jpg',\n",
       " '/kaggle/working/PetImages/Dog/1840.jpg',\n",
       " '/kaggle/working/PetImages/Dog/6085.jpg',\n",
       " '/kaggle/working/PetImages/Dog/8691.jpg',\n",
       " '/kaggle/working/PetImages/Dog/3996.jpg',\n",
       " '/kaggle/working/PetImages/Dog/3574.jpg',\n",
       " '/kaggle/working/PetImages/Dog/3207.jpg',\n",
       " '/kaggle/working/PetImages/Dog/9896.jpg',\n",
       " '/kaggle/working/PetImages/Dog/10790.jpg',\n",
       " '/kaggle/working/PetImages/Dog/11397.jpg',\n",
       " '/kaggle/working/PetImages/Dog/8110.jpg',\n",
       " '/kaggle/working/PetImages/Dog/9800.jpg',\n",
       " '/kaggle/working/PetImages/Dog/12112.jpg',\n",
       " '/kaggle/working/PetImages/Dog/10022.jpg',\n",
       " '/kaggle/working/PetImages/Dog/9483.jpg',\n",
       " '/kaggle/working/PetImages/Dog/2580.jpg',\n",
       " '/kaggle/working/PetImages/Dog/7293.jpg',\n",
       " '/kaggle/working/PetImages/Dog/5384.jpg',\n",
       " '/kaggle/working/PetImages/Dog/7815.jpg',\n",
       " '/kaggle/working/PetImages/Dog/8739.jpg',\n",
       " '/kaggle/working/PetImages/Dog/3280.jpg',\n",
       " '/kaggle/working/PetImages/Dog/7012.jpg',\n",
       " '/kaggle/working/PetImages/Dog/6682.jpg',\n",
       " '/kaggle/working/PetImages/Dog/10058.jpg',\n",
       " '/kaggle/working/PetImages/Dog/6386.jpg',\n",
       " '/kaggle/working/PetImages/Dog/10573.jpg',\n",
       " '/kaggle/working/PetImages/Dog/1124.jpg',\n",
       " '/kaggle/working/PetImages/Dog/4472.jpg',\n",
       " '/kaggle/working/PetImages/Dog/7744.jpg',\n",
       " '/kaggle/working/PetImages/Dog/501.jpg',\n",
       " '/kaggle/working/PetImages/Dog/5240.jpg',\n",
       " '/kaggle/working/PetImages/Dog/1395.jpg',\n",
       " '/kaggle/working/PetImages/Dog/10686.jpg',\n",
       " '/kaggle/working/PetImages/Dog/6107.jpg',\n",
       " '/kaggle/working/PetImages/Dog/3823.jpg',\n",
       " '/kaggle/working/PetImages/Dog/3467.jpg',\n",
       " '/kaggle/working/PetImages/Dog/8131.jpg',\n",
       " '/kaggle/working/PetImages/Dog/6471.jpg',\n",
       " '/kaggle/working/PetImages/Dog/10157.jpg',\n",
       " '/kaggle/working/PetImages/Dog/2363.jpg',\n",
       " '/kaggle/working/PetImages/Dog/9733.jpg',\n",
       " '/kaggle/working/PetImages/Dog/7489.jpg',\n",
       " '/kaggle/working/PetImages/Dog/5641.jpg',\n",
       " '/kaggle/working/PetImages/Dog/3562.jpg',\n",
       " '/kaggle/working/PetImages/Dog/915.jpg',\n",
       " '/kaggle/working/PetImages/Dog/815.jpg',\n",
       " '/kaggle/working/PetImages/Dog/9634.jpg',\n",
       " '/kaggle/working/PetImages/Dog/5266.jpg',\n",
       " '/kaggle/working/PetImages/Dog/6509.jpg',\n",
       " '/kaggle/working/PetImages/Dog/8648.jpg',\n",
       " '/kaggle/working/PetImages/Dog/11550.jpg',\n",
       " '/kaggle/working/PetImages/Dog/11784.jpg',\n",
       " '/kaggle/working/PetImages/Dog/3654.jpg',\n",
       " '/kaggle/working/PetImages/Dog/9148.jpg',\n",
       " '/kaggle/working/PetImages/Dog/9464.jpg',\n",
       " '/kaggle/working/PetImages/Dog/4256.jpg',\n",
       " '/kaggle/working/PetImages/Dog/6574.jpg',\n",
       " '/kaggle/working/PetImages/Dog/11514.jpg',\n",
       " '/kaggle/working/PetImages/Dog/10470.jpg',\n",
       " '/kaggle/working/PetImages/Dog/4305.jpg',\n",
       " '/kaggle/working/PetImages/Dog/760.jpg',\n",
       " '/kaggle/working/PetImages/Dog/342.jpg',\n",
       " '/kaggle/working/PetImages/Dog/8554.jpg',\n",
       " '/kaggle/working/PetImages/Dog/11756.jpg',\n",
       " '/kaggle/working/PetImages/Dog/11552.jpg',\n",
       " '/kaggle/working/PetImages/Dog/5192.jpg',\n",
       " '/kaggle/working/PetImages/Dog/1459.jpg',\n",
       " '/kaggle/working/PetImages/Dog/10126.jpg',\n",
       " '/kaggle/working/PetImages/Dog/8130.jpg',\n",
       " '/kaggle/working/PetImages/Dog/8440.jpg',\n",
       " '/kaggle/working/PetImages/Dog/2704.jpg',\n",
       " '/kaggle/working/PetImages/Dog/817.jpg',\n",
       " '/kaggle/working/PetImages/Dog/2003.jpg',\n",
       " '/kaggle/working/PetImages/Dog/8719.jpg',\n",
       " '/kaggle/working/PetImages/Dog/6352.jpg',\n",
       " '/kaggle/working/PetImages/Dog/12109.jpg',\n",
       " '/kaggle/working/PetImages/Dog/10089.jpg',\n",
       " '/kaggle/working/PetImages/Dog/8478.jpg',\n",
       " '/kaggle/working/PetImages/Dog/8013.jpg',\n",
       " '/kaggle/working/PetImages/Dog/9114.jpg',\n",
       " '/kaggle/working/PetImages/Dog/5475.jpg',\n",
       " '/kaggle/working/PetImages/Dog/11926.jpg',\n",
       " '/kaggle/working/PetImages/Dog/8906.jpg',\n",
       " '/kaggle/working/PetImages/Dog/7875.jpg',\n",
       " '/kaggle/working/PetImages/Dog/5794.jpg',\n",
       " '/kaggle/working/PetImages/Dog/11649.jpg',\n",
       " '/kaggle/working/PetImages/Dog/6404.jpg',\n",
       " '/kaggle/working/PetImages/Dog/6986.jpg',\n",
       " '/kaggle/working/PetImages/Dog/7821.jpg',\n",
       " '/kaggle/working/PetImages/Dog/6470.jpg',\n",
       " '/kaggle/working/PetImages/Dog/8765.jpg',\n",
       " '/kaggle/working/PetImages/Dog/11729.jpg',\n",
       " '/kaggle/working/PetImages/Dog/9549.jpg',\n",
       " '/kaggle/working/PetImages/Dog/4782.jpg',\n",
       " '/kaggle/working/PetImages/Dog/5928.jpg',\n",
       " '/kaggle/working/PetImages/Dog/4550.jpg',\n",
       " '/kaggle/working/PetImages/Dog/3802.jpg',\n",
       " '/kaggle/working/PetImages/Dog/6036.jpg',\n",
       " '/kaggle/working/PetImages/Dog/9750.jpg',\n",
       " '/kaggle/working/PetImages/Dog/4706.jpg',\n",
       " '/kaggle/working/PetImages/Dog/429.jpg',\n",
       " '/kaggle/working/PetImages/Dog/9088.jpg',\n",
       " '/kaggle/working/PetImages/Dog/4955.jpg',\n",
       " '/kaggle/working/PetImages/Dog/9489.jpg',\n",
       " '/kaggle/working/PetImages/Dog/9230.jpg',\n",
       " '/kaggle/working/PetImages/Dog/4757.jpg',\n",
       " '/kaggle/working/PetImages/Dog/3684.jpg',\n",
       " '/kaggle/working/PetImages/Dog/11430.jpg',\n",
       " '/kaggle/working/PetImages/Dog/8995.jpg',\n",
       " '/kaggle/working/PetImages/Dog/11746.jpg',\n",
       " '/kaggle/working/PetImages/Dog/6097.jpg',\n",
       " '/kaggle/working/PetImages/Dog/9398.jpg',\n",
       " '/kaggle/working/PetImages/Dog/5126.jpg',\n",
       " '/kaggle/working/PetImages/Dog/9004.jpg',\n",
       " '/kaggle/working/PetImages/Dog/8948.jpg',\n",
       " '/kaggle/working/PetImages/Dog/2000.jpg',\n",
       " '/kaggle/working/PetImages/Dog/10259.jpg',\n",
       " '/kaggle/working/PetImages/Dog/1055.jpg',\n",
       " '/kaggle/working/PetImages/Dog/2560.jpg',\n",
       " '/kaggle/working/PetImages/Dog/6262.jpg',\n",
       " '/kaggle/working/PetImages/Dog/6281.jpg',\n",
       " '/kaggle/working/PetImages/Dog/646.jpg',\n",
       " '/kaggle/working/PetImages/Dog/4642.jpg',\n",
       " '/kaggle/working/PetImages/Dog/12407.jpg',\n",
       " '/kaggle/working/PetImages/Dog/10057.jpg',\n",
       " '/kaggle/working/PetImages/Dog/7611.jpg',\n",
       " '/kaggle/working/PetImages/Dog/4939.jpg',\n",
       " '/kaggle/working/PetImages/Dog/8794.jpg',\n",
       " '/kaggle/working/PetImages/Dog/4482.jpg',\n",
       " '/kaggle/working/PetImages/Dog/12285.jpg',\n",
       " '/kaggle/working/PetImages/Dog/9833.jpg',\n",
       " '/kaggle/working/PetImages/Dog/11099.jpg',\n",
       " '/kaggle/working/PetImages/Dog/2753.jpg',\n",
       " '/kaggle/working/PetImages/Dog/682.jpg',\n",
       " '/kaggle/working/PetImages/Dog/9032.jpg',\n",
       " '/kaggle/working/PetImages/Dog/1548.jpg',\n",
       " '/kaggle/working/PetImages/Dog/11001.jpg',\n",
       " '/kaggle/working/PetImages/Dog/6677.jpg',\n",
       " '/kaggle/working/PetImages/Dog/4369.jpg',\n",
       " '/kaggle/working/PetImages/Dog/5555.jpg',\n",
       " '/kaggle/working/PetImages/Dog/6455.jpg',\n",
       " '/kaggle/working/PetImages/Dog/6502.jpg',\n",
       " '/kaggle/working/PetImages/Dog/3198.jpg',\n",
       " '/kaggle/working/PetImages/Dog/3322.jpg',\n",
       " '/kaggle/working/PetImages/Dog/5122.jpg',\n",
       " '/kaggle/working/PetImages/Dog/5334.jpg',\n",
       " '/kaggle/working/PetImages/Dog/1934.jpg',\n",
       " '/kaggle/working/PetImages/Dog/544.jpg',\n",
       " '/kaggle/working/PetImages/Dog/1794.jpg',\n",
       " '/kaggle/working/PetImages/Dog/1715.jpg',\n",
       " '/kaggle/working/PetImages/Dog/2953.jpg',\n",
       " '/kaggle/working/PetImages/Dog/2279.jpg',\n",
       " '/kaggle/working/PetImages/Dog/377.jpg',\n",
       " '/kaggle/working/PetImages/Dog/1026.jpg',\n",
       " '/kaggle/working/PetImages/Dog/2866.jpg',\n",
       " '/kaggle/working/PetImages/Dog/4843.jpg',\n",
       " '/kaggle/working/PetImages/Dog/7785.jpg',\n",
       " '/kaggle/working/PetImages/Dog/272.jpg',\n",
       " '/kaggle/working/PetImages/Dog/795.jpg',\n",
       " '/kaggle/working/PetImages/Dog/4597.jpg',\n",
       " '/kaggle/working/PetImages/Dog/270.jpg',\n",
       " '/kaggle/working/PetImages/Dog/3968.jpg',\n",
       " '/kaggle/working/PetImages/Dog/12044.jpg',\n",
       " '/kaggle/working/PetImages/Dog/12473.jpg',\n",
       " '/kaggle/working/PetImages/Dog/3221.jpg',\n",
       " '/kaggle/working/PetImages/Dog/182.jpg',\n",
       " '/kaggle/working/PetImages/Dog/3884.jpg',\n",
       " '/kaggle/working/PetImages/Dog/2182.jpg',\n",
       " '/kaggle/working/PetImages/Dog/8816.jpg',\n",
       " '/kaggle/working/PetImages/Dog/12284.jpg',\n",
       " '/kaggle/working/PetImages/Dog/6775.jpg',\n",
       " '/kaggle/working/PetImages/Dog/7904.jpg',\n",
       " '/kaggle/working/PetImages/Dog/11278.jpg',\n",
       " '/kaggle/working/PetImages/Dog/1936.jpg',\n",
       " '/kaggle/working/PetImages/Dog/12406.jpg',\n",
       " '/kaggle/working/PetImages/Dog/1162.jpg',\n",
       " '/kaggle/working/PetImages/Dog/4766.jpg',\n",
       " '/kaggle/working/PetImages/Dog/10086.jpg',\n",
       " '/kaggle/working/PetImages/Dog/7549.jpg',\n",
       " '/kaggle/working/PetImages/Dog/4405.jpg',\n",
       " '/kaggle/working/PetImages/Dog/10452.jpg',\n",
       " '/kaggle/working/PetImages/Dog/3713.jpg',\n",
       " '/kaggle/working/PetImages/Dog/9298.jpg',\n",
       " '/kaggle/working/PetImages/Dog/3195.jpg',\n",
       " '/kaggle/working/PetImages/Dog/10872.jpg',\n",
       " '/kaggle/working/PetImages/Dog/5313.jpg',\n",
       " '/kaggle/working/PetImages/Dog/215.jpg',\n",
       " '/kaggle/working/PetImages/Dog/6732.jpg',\n",
       " '/kaggle/working/PetImages/Dog/7659.jpg',\n",
       " '/kaggle/working/PetImages/Dog/5465.jpg',\n",
       " '/kaggle/working/PetImages/Dog/2067.jpg',\n",
       " '/kaggle/working/PetImages/Dog/5649.jpg',\n",
       " '/kaggle/working/PetImages/Dog/10659.jpg',\n",
       " '/kaggle/working/PetImages/Dog/5518.jpg',\n",
       " '/kaggle/working/PetImages/Dog/11245.jpg',\n",
       " '/kaggle/working/PetImages/Dog/2558.jpg',\n",
       " '/kaggle/working/PetImages/Dog/11272.jpg',\n",
       " '/kaggle/working/PetImages/Dog/8872.jpg',\n",
       " '/kaggle/working/PetImages/Dog/8322.jpg',\n",
       " '/kaggle/working/PetImages/Dog/5797.jpg',\n",
       " '/kaggle/working/PetImages/Dog/9074.jpg',\n",
       " '/kaggle/working/PetImages/Dog/11054.jpg',\n",
       " '/kaggle/working/PetImages/Dog/6658.jpg',\n",
       " '/kaggle/working/PetImages/Dog/489.jpg',\n",
       " '/kaggle/working/PetImages/Dog/3852.jpg',\n",
       " '/kaggle/working/PetImages/Dog/6174.jpg',\n",
       " '/kaggle/working/PetImages/Dog/11677.jpg',\n",
       " '/kaggle/working/PetImages/Dog/576.jpg',\n",
       " '/kaggle/working/PetImages/Dog/4382.jpg',\n",
       " '/kaggle/working/PetImages/Dog/12308.jpg',\n",
       " '/kaggle/working/PetImages/Dog/10159.jpg',\n",
       " '/kaggle/working/PetImages/Dog/6274.jpg',\n",
       " '/kaggle/working/PetImages/Dog/3828.jpg',\n",
       " '/kaggle/working/PetImages/Dog/6084.jpg',\n",
       " '/kaggle/working/PetImages/Dog/3429.jpg',\n",
       " '/kaggle/working/PetImages/Dog/4628.jpg',\n",
       " '/kaggle/working/PetImages/Dog/6380.jpg',\n",
       " '/kaggle/working/PetImages/Dog/8556.jpg',\n",
       " '/kaggle/working/PetImages/Dog/9871.jpg',\n",
       " '/kaggle/working/PetImages/Dog/2571.jpg',\n",
       " '/kaggle/working/PetImages/Dog/1834.jpg',\n",
       " '/kaggle/working/PetImages/Dog/2749.jpg',\n",
       " '/kaggle/working/PetImages/Dog/9815.jpg',\n",
       " '/kaggle/working/PetImages/Dog/2397.jpg',\n",
       " '/kaggle/working/PetImages/Dog/2526.jpg',\n",
       " '/kaggle/working/PetImages/Dog/6938.jpg',\n",
       " '/kaggle/working/PetImages/Dog/10471.jpg',\n",
       " '/kaggle/working/PetImages/Dog/8066.jpg',\n",
       " '/kaggle/working/PetImages/Dog/12063.jpg',\n",
       " '/kaggle/working/PetImages/Dog/9963.jpg',\n",
       " '/kaggle/working/PetImages/Dog/6364.jpg',\n",
       " '/kaggle/working/PetImages/Dog/10196.jpg',\n",
       " '/kaggle/working/PetImages/Dog/185.jpg',\n",
       " '/kaggle/working/PetImages/Dog/5605.jpg',\n",
       " '/kaggle/working/PetImages/Dog/9434.jpg',\n",
       " '/kaggle/working/PetImages/Dog/8823.jpg',\n",
       " '/kaggle/working/PetImages/Dog/4320.jpg',\n",
       " '/kaggle/working/PetImages/Dog/4355.jpg',\n",
       " '/kaggle/working/PetImages/Dog/9100.jpg',\n",
       " '/kaggle/working/PetImages/Dog/11412.jpg',\n",
       " '/kaggle/working/PetImages/Dog/4072.jpg',\n",
       " '/kaggle/working/PetImages/Dog/5410.jpg',\n",
       " '/kaggle/working/PetImages/Dog/1484.jpg',\n",
       " '/kaggle/working/PetImages/Dog/7864.jpg',\n",
       " '/kaggle/working/PetImages/Dog/10281.jpg',\n",
       " '/kaggle/working/PetImages/Dog/7405.jpg',\n",
       " '/kaggle/working/PetImages/Dog/6733.jpg',\n",
       " '/kaggle/working/PetImages/Dog/3064.jpg',\n",
       " '/kaggle/working/PetImages/Dog/2751.jpg',\n",
       " '/kaggle/working/PetImages/Dog/7882.jpg',\n",
       " '/kaggle/working/PetImages/Dog/1920.jpg',\n",
       " '/kaggle/working/PetImages/Dog/613.jpg',\n",
       " '/kaggle/working/PetImages/Dog/8782.jpg',\n",
       " '/kaggle/working/PetImages/Dog/930.jpg',\n",
       " '/kaggle/working/PetImages/Dog/5188.jpg',\n",
       " '/kaggle/working/PetImages/Dog/243.jpg',\n",
       " '/kaggle/working/PetImages/Dog/9918.jpg',\n",
       " '/kaggle/working/PetImages/Dog/8690.jpg',\n",
       " '/kaggle/working/PetImages/Dog/10295.jpg',\n",
       " '/kaggle/working/PetImages/Dog/4771.jpg',\n",
       " '/kaggle/working/PetImages/Dog/10622.jpg',\n",
       " '/kaggle/working/PetImages/Dog/8321.jpg',\n",
       " '/kaggle/working/PetImages/Dog/10944.jpg',\n",
       " '/kaggle/working/PetImages/Dog/4021.jpg',\n",
       " '/kaggle/working/PetImages/Dog/4303.jpg',\n",
       " '/kaggle/working/PetImages/Dog/5925.jpg',\n",
       " '/kaggle/working/PetImages/Dog/11096.jpg',\n",
       " '/kaggle/working/PetImages/Dog/2748.jpg',\n",
       " '/kaggle/working/PetImages/Dog/5619.jpg',\n",
       " '/kaggle/working/PetImages/Dog/1702.jpg',\n",
       " '/kaggle/working/PetImages/Dog/3494.jpg',\n",
       " '/kaggle/working/PetImages/Dog/2510.jpg',\n",
       " '/kaggle/working/PetImages/Dog/7581.jpg',\n",
       " '/kaggle/working/PetImages/Dog/4611.jpg',\n",
       " '/kaggle/working/PetImages/Dog/3366.jpg',\n",
       " '/kaggle/working/PetImages/Dog/6570.jpg',\n",
       " '/kaggle/working/PetImages/Dog/7065.jpg',\n",
       " '/kaggle/working/PetImages/Dog/7132.jpg',\n",
       " '/kaggle/working/PetImages/Dog/3851.jpg',\n",
       " '/kaggle/working/PetImages/Dog/1010.jpg',\n",
       " '/kaggle/working/PetImages/Dog/10661.jpg',\n",
       " '/kaggle/working/PetImages/Dog/3577.jpg',\n",
       " '/kaggle/working/PetImages/Dog/153.jpg',\n",
       " '/kaggle/working/PetImages/Dog/6456.jpg',\n",
       " '/kaggle/working/PetImages/Dog/5591.jpg',\n",
       " '/kaggle/working/PetImages/Dog/2743.jpg',\n",
       " '/kaggle/working/PetImages/Dog/4190.jpg',\n",
       " '/kaggle/working/PetImages/Dog/703.jpg',\n",
       " '/kaggle/working/PetImages/Dog/5718.jpg',\n",
       " '/kaggle/working/PetImages/Dog/10562.jpg',\n",
       " '/kaggle/working/PetImages/Dog/6094.jpg',\n",
       " '/kaggle/working/PetImages/Dog/11792.jpg',\n",
       " '/kaggle/working/PetImages/Dog/12481.jpg',\n",
       " '/kaggle/working/PetImages/Dog/9956.jpg',\n",
       " '/kaggle/working/PetImages/Dog/8316.jpg',\n",
       " '/kaggle/working/PetImages/Dog/7291.jpg',\n",
       " '/kaggle/working/PetImages/Dog/4476.jpg',\n",
       " '/kaggle/working/PetImages/Dog/2852.jpg',\n",
       " '/kaggle/working/PetImages/Dog/6083.jpg',\n",
       " '/kaggle/working/PetImages/Dog/4896.jpg',\n",
       " '/kaggle/working/PetImages/Dog/1451.jpg',\n",
       " '/kaggle/working/PetImages/Dog/189.jpg',\n",
       " '/kaggle/working/PetImages/Dog/4033.jpg',\n",
       " '/kaggle/working/PetImages/Dog/5129.jpg',\n",
       " '/kaggle/working/PetImages/Dog/143.jpg',\n",
       " '/kaggle/working/PetImages/Dog/11821.jpg',\n",
       " '/kaggle/working/PetImages/Dog/6892.jpg',\n",
       " '/kaggle/working/PetImages/Dog/2719.jpg',\n",
       " '/kaggle/working/PetImages/Dog/9098.jpg',\n",
       " '/kaggle/working/PetImages/Dog/2486.jpg',\n",
       " '/kaggle/working/PetImages/Dog/1025.jpg',\n",
       " '/kaggle/working/PetImages/Dog/3534.jpg',\n",
       " '/kaggle/working/PetImages/Dog/11449.jpg',\n",
       " '/kaggle/working/PetImages/Dog/3724.jpg',\n",
       " '/kaggle/working/PetImages/Dog/2444.jpg',\n",
       " '/kaggle/working/PetImages/Dog/11354.jpg',\n",
       " '/kaggle/working/PetImages/Dog/3085.jpg',\n",
       " '/kaggle/working/PetImages/Dog/4361.jpg',\n",
       " '/kaggle/working/PetImages/Dog/7269.jpg',\n",
       " '/kaggle/working/PetImages/Dog/10800.jpg',\n",
       " '/kaggle/working/PetImages/Dog/12449.jpg',\n",
       " '/kaggle/working/PetImages/Dog/1343.jpg',\n",
       " '/kaggle/working/PetImages/Dog/1579.jpg',\n",
       " '/kaggle/working/PetImages/Dog/1774.jpg',\n",
       " '/kaggle/working/PetImages/Dog/3347.jpg',\n",
       " '/kaggle/working/PetImages/Dog/476.jpg',\n",
       " '/kaggle/working/PetImages/Dog/9392.jpg',\n",
       " '/kaggle/working/PetImages/Dog/6821.jpg',\n",
       " '/kaggle/working/PetImages/Dog/2403.jpg',\n",
       " '/kaggle/working/PetImages/Dog/6186.jpg',\n",
       " '/kaggle/working/PetImages/Dog/12008.jpg',\n",
       " '/kaggle/working/PetImages/Dog/6695.jpg',\n",
       " '/kaggle/working/PetImages/Dog/4528.jpg',\n",
       " '/kaggle/working/PetImages/Dog/11584.jpg',\n",
       " '/kaggle/working/PetImages/Dog/11021.jpg',\n",
       " '/kaggle/working/PetImages/Dog/8094.jpg',\n",
       " '/kaggle/working/PetImages/Dog/5730.jpg',\n",
       " '/kaggle/working/PetImages/Dog/8616.jpg',\n",
       " '/kaggle/working/PetImages/Dog/2626.jpg',\n",
       " '/kaggle/working/PetImages/Dog/5244.jpg',\n",
       " '/kaggle/working/PetImages/Dog/9075.jpg',\n",
       " '/kaggle/working/PetImages/Dog/3497.jpg',\n",
       " '/kaggle/working/PetImages/Dog/5440.jpg',\n",
       " '/kaggle/working/PetImages/Dog/7395.jpg',\n",
       " '/kaggle/working/PetImages/Dog/6637.jpg',\n",
       " '/kaggle/working/PetImages/Dog/11703.jpg',\n",
       " '/kaggle/working/PetImages/Dog/5103.jpg',\n",
       " '/kaggle/working/PetImages/Dog/2982.jpg',\n",
       " '/kaggle/working/PetImages/Dog/6548.jpg',\n",
       " '/kaggle/working/PetImages/Dog/8312.jpg',\n",
       " '/kaggle/working/PetImages/Dog/7044.jpg',\n",
       " '/kaggle/working/PetImages/Dog/717.jpg',\n",
       " '/kaggle/working/PetImages/Dog/8712.jpg',\n",
       " '/kaggle/working/PetImages/Dog/12448.jpg',\n",
       " '/kaggle/working/PetImages/Dog/8315.jpg',\n",
       " '/kaggle/working/PetImages/Dog/5483.jpg',\n",
       " '/kaggle/working/PetImages/Dog/11534.jpg',\n",
       " '/kaggle/working/PetImages/Dog/6449.jpg',\n",
       " '/kaggle/working/PetImages/Dog/2716.jpg',\n",
       " '/kaggle/working/PetImages/Dog/5657.jpg',\n",
       " '/kaggle/working/PetImages/Dog/3260.jpg',\n",
       " '/kaggle/working/PetImages/Dog/11799.jpg',\n",
       " '/kaggle/working/PetImages/Dog/5040.jpg',\n",
       " '/kaggle/working/PetImages/Dog/3708.jpg',\n",
       " '/kaggle/working/PetImages/Dog/9751.jpg',\n",
       " '/kaggle/working/PetImages/Dog/10120.jpg',\n",
       " '/kaggle/working/PetImages/Dog/6046.jpg',\n",
       " '/kaggle/working/PetImages/Dog/5352.jpg',\n",
       " '/kaggle/working/PetImages/Dog/4161.jpg',\n",
       " '/kaggle/working/PetImages/Dog/6819.jpg',\n",
       " '/kaggle/working/PetImages/Dog/3382.jpg',\n",
       " '/kaggle/working/PetImages/Dog/4179.jpg',\n",
       " '/kaggle/working/PetImages/Dog/1473.jpg',\n",
       " '/kaggle/working/PetImages/Dog/3616.jpg',\n",
       " '/kaggle/working/PetImages/Dog/10953.jpg',\n",
       " '/kaggle/working/PetImages/Dog/7166.jpg',\n",
       " '/kaggle/working/PetImages/Dog/4379.jpg',\n",
       " '/kaggle/working/PetImages/Dog/3990.jpg',\n",
       " '/kaggle/working/PetImages/Dog/6904.jpg',\n",
       " '/kaggle/working/PetImages/Dog/11051.jpg',\n",
       " '/kaggle/working/PetImages/Dog/4016.jpg',\n",
       " '/kaggle/working/PetImages/Dog/5501.jpg',\n",
       " '/kaggle/working/PetImages/Dog/327.jpg',\n",
       " '/kaggle/working/PetImages/Dog/5321.jpg',\n",
       " '/kaggle/working/PetImages/Dog/2178.jpg',\n",
       " '/kaggle/working/PetImages/Dog/3769.jpg',\n",
       " '/kaggle/working/PetImages/Dog/10912.jpg',\n",
       " '/kaggle/working/PetImages/Dog/10945.jpg',\n",
       " '/kaggle/working/PetImages/Dog/1669.jpg',\n",
       " '/kaggle/working/PetImages/Dog/253.jpg',\n",
       " '/kaggle/working/PetImages/Dog/9380.jpg',\n",
       " '/kaggle/working/PetImages/Dog/9138.jpg',\n",
       " '/kaggle/working/PetImages/Dog/9134.jpg',\n",
       " '/kaggle/working/PetImages/Dog/4268.jpg',\n",
       " '/kaggle/working/PetImages/Dog/11122.jpg',\n",
       " '/kaggle/working/PetImages/Dog/9563.jpg',\n",
       " '/kaggle/working/PetImages/Dog/5466.jpg',\n",
       " '/kaggle/working/PetImages/Dog/9603.jpg',\n",
       " '/kaggle/working/PetImages/Dog/10461.jpg',\n",
       " '/kaggle/working/PetImages/Dog/10588.jpg',\n",
       " '/kaggle/working/PetImages/Dog/2673.jpg',\n",
       " '/kaggle/working/PetImages/Dog/11609.jpg',\n",
       " '/kaggle/working/PetImages/Dog/4833.jpg',\n",
       " '/kaggle/working/PetImages/Dog/5291.jpg',\n",
       " '/kaggle/working/PetImages/Dog/11443.jpg',\n",
       " '/kaggle/working/PetImages/Dog/343.jpg',\n",
       " '/kaggle/working/PetImages/Dog/10280.jpg',\n",
       " '/kaggle/working/PetImages/Dog/10070.jpg',\n",
       " '/kaggle/working/PetImages/Dog/11062.jpg',\n",
       " '/kaggle/working/PetImages/Dog/1815.jpg',\n",
       " '/kaggle/working/PetImages/Dog/9981.jpg',\n",
       " '/kaggle/working/PetImages/Dog/8492.jpg',\n",
       " '/kaggle/working/PetImages/Dog/12352.jpg',\n",
       " '/kaggle/working/PetImages/Dog/4523.jpg',\n",
       " '/kaggle/working/PetImages/Dog/8382.jpg',\n",
       " '/kaggle/working/PetImages/Dog/2643.jpg',\n",
       " '/kaggle/working/PetImages/Dog/4076.jpg',\n",
       " '/kaggle/working/PetImages/Dog/11399.jpg',\n",
       " '/kaggle/working/PetImages/Dog/9547.jpg',\n",
       " '/kaggle/working/PetImages/Dog/8353.jpg',\n",
       " '/kaggle/working/PetImages/Dog/1746.jpg',\n",
       " '/kaggle/working/PetImages/Dog/6170.jpg',\n",
       " '/kaggle/working/PetImages/Dog/11456.jpg',\n",
       " '/kaggle/working/PetImages/Dog/2271.jpg',\n",
       " '/kaggle/working/PetImages/Dog/7174.jpg',\n",
       " '/kaggle/working/PetImages/Dog/12358.jpg',\n",
       " '/kaggle/working/PetImages/Dog/11807.jpg',\n",
       " '/kaggle/working/PetImages/Dog/9673.jpg',\n",
       " '/kaggle/working/PetImages/Dog/7358.jpg',\n",
       " '/kaggle/working/PetImages/Dog/115.jpg',\n",
       " '/kaggle/working/PetImages/Dog/2517.jpg',\n",
       " '/kaggle/working/PetImages/Dog/9757.jpg',\n",
       " '/kaggle/working/PetImages/Dog/4035.jpg',\n",
       " '/kaggle/working/PetImages/Dog/1905.jpg',\n",
       " '/kaggle/working/PetImages/Dog/7086.jpg',\n",
       " '/kaggle/working/PetImages/Dog/131.jpg',\n",
       " '/kaggle/working/PetImages/Dog/10084.jpg',\n",
       " '/kaggle/working/PetImages/Dog/6115.jpg',\n",
       " '/kaggle/working/PetImages/Dog/6761.jpg',\n",
       " '/kaggle/working/PetImages/Dog/4735.jpg',\n",
       " '/kaggle/working/PetImages/Dog/7323.jpg',\n",
       " '/kaggle/working/PetImages/Dog/2087.jpg',\n",
       " '/kaggle/working/PetImages/Dog/6589.jpg',\n",
       " '/kaggle/working/PetImages/Dog/1058.jpg',\n",
       " '/kaggle/working/PetImages/Dog/6905.jpg',\n",
       " '/kaggle/working/PetImages/Dog/5156.jpg',\n",
       " '/kaggle/working/PetImages/Dog/8901.jpg',\n",
       " '/kaggle/working/PetImages/Dog/8142.jpg',\n",
       " '/kaggle/working/PetImages/Dog/446.jpg',\n",
       " '/kaggle/working/PetImages/Dog/12058.jpg',\n",
       " '/kaggle/working/PetImages/Dog/1498.jpg',\n",
       " '/kaggle/working/PetImages/Dog/3431.jpg',\n",
       " '/kaggle/working/PetImages/Dog/10112.jpg',\n",
       " '/kaggle/working/PetImages/Dog/10919.jpg',\n",
       " '/kaggle/working/PetImages/Dog/6812.jpg',\n",
       " '/kaggle/working/PetImages/Dog/6813.jpg',\n",
       " '/kaggle/working/PetImages/Dog/10560.jpg',\n",
       " '/kaggle/working/PetImages/Dog/1166.jpg',\n",
       " '/kaggle/working/PetImages/Dog/10750.jpg',\n",
       " '/kaggle/working/PetImages/Dog/8931.jpg',\n",
       " '/kaggle/working/PetImages/Dog/1812.jpg',\n",
       " '/kaggle/working/PetImages/Dog/1601.jpg',\n",
       " '/kaggle/working/PetImages/Dog/3010.jpg',\n",
       " '/kaggle/working/PetImages/Dog/11425.jpg',\n",
       " '/kaggle/working/PetImages/Dog/626.jpg',\n",
       " '/kaggle/working/PetImages/Dog/1443.jpg',\n",
       " '/kaggle/working/PetImages/Dog/2174.jpg',\n",
       " '/kaggle/working/PetImages/Dog/5187.jpg',\n",
       " '/kaggle/working/PetImages/Dog/8921.jpg',\n",
       " '/kaggle/working/PetImages/Dog/2997.jpg',\n",
       " '/kaggle/working/PetImages/Dog/7945.jpg',\n",
       " '/kaggle/working/PetImages/Dog/5045.jpg',\n",
       " '/kaggle/working/PetImages/Dog/9367.jpg',\n",
       " '/kaggle/working/PetImages/Dog/7687.jpg',\n",
       " '/kaggle/working/PetImages/Dog/4005.jpg',\n",
       " '/kaggle/working/PetImages/Dog/12074.jpg',\n",
       " '/kaggle/working/PetImages/Dog/3323.jpg',\n",
       " '/kaggle/working/PetImages/Dog/3682.jpg',\n",
       " '/kaggle/working/PetImages/Dog/9974.jpg',\n",
       " '/kaggle/working/PetImages/Dog/10191.jpg',\n",
       " '/kaggle/working/PetImages/Dog/9429.jpg',\n",
       " '/kaggle/working/PetImages/Dog/8338.jpg',\n",
       " '/kaggle/working/PetImages/Dog/8064.jpg',\n",
       " '/kaggle/working/PetImages/Dog/6077.jpg',\n",
       " '/kaggle/working/PetImages/Dog/7144.jpg',\n",
       " '/kaggle/working/PetImages/Dog/11854.jpg',\n",
       " '/kaggle/working/PetImages/Dog/2150.jpg',\n",
       " '/kaggle/working/PetImages/Dog/5851.jpg',\n",
       " '/kaggle/working/PetImages/Dog/4028.jpg',\n",
       " '/kaggle/working/PetImages/Dog/9071.jpg',\n",
       " '/kaggle/working/PetImages/Dog/5895.jpg',\n",
       " '/kaggle/working/PetImages/Dog/2394.jpg',\n",
       " '/kaggle/working/PetImages/Dog/425.jpg',\n",
       " '/kaggle/working/PetImages/Dog/5.jpg',\n",
       " '/kaggle/working/PetImages/Dog/8783.jpg',\n",
       " '/kaggle/working/PetImages/Dog/9998.jpg',\n",
       " '/kaggle/working/PetImages/Dog/1559.jpg',\n",
       " '/kaggle/working/PetImages/Dog/6884.jpg',\n",
       " '/kaggle/working/PetImages/Dog/7873.jpg',\n",
       " '/kaggle/working/PetImages/Dog/7411.jpg',\n",
       " '/kaggle/working/PetImages/Dog/9227.jpg',\n",
       " '/kaggle/working/PetImages/Dog/9203.jpg',\n",
       " '/kaggle/working/PetImages/Dog/11318.jpg',\n",
       " '/kaggle/working/PetImages/Dog/4596.jpg',\n",
       " '/kaggle/working/PetImages/Dog/824.jpg',\n",
       " '/kaggle/working/PetImages/Dog/366.jpg',\n",
       " '/kaggle/working/PetImages/Dog/7410.jpg',\n",
       " '/kaggle/working/PetImages/Dog/2809.jpg',\n",
       " '/kaggle/working/PetImages/Dog/2530.jpg',\n",
       " '/kaggle/working/PetImages/Dog/2922.jpg',\n",
       " '/kaggle/working/PetImages/Dog/3493.jpg',\n",
       " '/kaggle/working/PetImages/Dog/12442.jpg',\n",
       " '/kaggle/working/PetImages/Dog/4443.jpg',\n",
       " '/kaggle/working/PetImages/Dog/8596.jpg',\n",
       " '/kaggle/working/PetImages/Dog/10376.jpg',\n",
       " '/kaggle/working/PetImages/Dog/7572.jpg',\n",
       " '/kaggle/working/PetImages/Dog/7899.jpg',\n",
       " '/kaggle/working/PetImages/Dog/5360.jpg',\n",
       " '/kaggle/working/PetImages/Dog/1101.jpg',\n",
       " '/kaggle/working/PetImages/Dog/9780.jpg',\n",
       " '/kaggle/working/PetImages/Dog/10715.jpg',\n",
       " '/kaggle/working/PetImages/Dog/8799.jpg',\n",
       " '/kaggle/working/PetImages/Dog/7841.jpg',\n",
       " '/kaggle/working/PetImages/Dog/850.jpg',\n",
       " '/kaggle/working/PetImages/Dog/11798.jpg',\n",
       " '/kaggle/working/PetImages/Dog/9811.jpg',\n",
       " '/kaggle/working/PetImages/Dog/11794.jpg',\n",
       " '/kaggle/working/PetImages/Dog/8975.jpg',\n",
       " '/kaggle/working/PetImages/Dog/12264.jpg',\n",
       " '/kaggle/working/PetImages/Dog/7854.jpg',\n",
       " '/kaggle/working/PetImages/Dog/7693.jpg',\n",
       " '/kaggle/working/PetImages/Dog/6526.jpg',\n",
       " '/kaggle/working/PetImages/Dog/4038.jpg',\n",
       " '/kaggle/working/PetImages/Dog/5540.jpg',\n",
       " '/kaggle/working/PetImages/Dog/7196.jpg',\n",
       " '/kaggle/working/PetImages/Dog/6665.jpg',\n",
       " '/kaggle/working/PetImages/Dog/2897.jpg',\n",
       " '/kaggle/working/PetImages/Dog/9008.jpg',\n",
       " '/kaggle/working/PetImages/Dog/6676.jpg',\n",
       " '/kaggle/working/PetImages/Dog/9597.jpg',\n",
       " '/kaggle/working/PetImages/Dog/4300.jpg',\n",
       " '/kaggle/working/PetImages/Dog/6010.jpg',\n",
       " '/kaggle/working/PetImages/Dog/885.jpg',\n",
       " '/kaggle/working/PetImages/Dog/2789.jpg',\n",
       " '/kaggle/working/PetImages/Dog/11098.jpg',\n",
       " '/kaggle/working/PetImages/Dog/10146.jpg',\n",
       " '/kaggle/working/PetImages/Dog/1327.jpg',\n",
       " '/kaggle/working/PetImages/Dog/6242.jpg',\n",
       " '/kaggle/working/PetImages/Dog/1781.jpg',\n",
       " '/kaggle/working/PetImages/Dog/4749.jpg',\n",
       " '/kaggle/working/PetImages/Dog/7750.jpg',\n",
       " '/kaggle/working/PetImages/Dog/4077.jpg',\n",
       " '/kaggle/working/PetImages/Dog/10799.jpg',\n",
       " '/kaggle/working/PetImages/Dog/3318.jpg',\n",
       " '/kaggle/working/PetImages/Dog/11509.jpg',\n",
       " '/kaggle/working/PetImages/Dog/7135.jpg',\n",
       " '/kaggle/working/PetImages/Dog/6362.jpg',\n",
       " '/kaggle/working/PetImages/Dog/151.jpg',\n",
       " '/kaggle/working/PetImages/Dog/6608.jpg',\n",
       " '/kaggle/working/PetImages/Dog/1097.jpg',\n",
       " '/kaggle/working/PetImages/Dog/4307.jpg',\n",
       " '/kaggle/working/PetImages/Dog/4526.jpg',\n",
       " '/kaggle/working/PetImages/Dog/9595.jpg',\n",
       " '/kaggle/working/PetImages/Dog/9768.jpg',\n",
       " '/kaggle/working/PetImages/Dog/2552.jpg',\n",
       " '/kaggle/working/PetImages/Dog/3011.jpg',\n",
       " '/kaggle/working/PetImages/Dog/8334.jpg',\n",
       " '/kaggle/working/PetImages/Dog/1376.jpg',\n",
       " '/kaggle/working/PetImages/Dog/2655.jpg',\n",
       " '/kaggle/working/PetImages/Dog/6078.jpg',\n",
       " '/kaggle/working/PetImages/Dog/6437.jpg',\n",
       " '/kaggle/working/PetImages/Dog/6176.jpg',\n",
       " '/kaggle/working/PetImages/Dog/3164.jpg',\n",
       " '/kaggle/working/PetImages/Dog/6591.jpg',\n",
       " '/kaggle/working/PetImages/Dog/10348.jpg',\n",
       " '/kaggle/working/PetImages/Dog/426.jpg',\n",
       " '/kaggle/working/PetImages/Dog/2204.jpg',\n",
       " '/kaggle/working/PetImages/Dog/732.jpg',\n",
       " '/kaggle/working/PetImages/Dog/4228.jpg',\n",
       " '/kaggle/working/PetImages/Dog/3887.jpg',\n",
       " '/kaggle/working/PetImages/Dog/10777.jpg',\n",
       " '/kaggle/working/PetImages/Dog/12440.jpg',\n",
       " '/kaggle/working/PetImages/Dog/7308.jpg',\n",
       " '/kaggle/working/PetImages/Dog/7977.jpg',\n",
       " ...]"
      ]
     },
     "execution_count": 2,
     "metadata": {},
     "output_type": "execute_result"
    }
   ],
   "source": [
    "# copy data current directory to working directory\n",
    "main_dir = \"../input/microsoft-catsvsdogs-dataset/PetImages/\"\n",
    "\n",
    "# create dataset directory path\n",
    "work_dir = \"/kaggle/working/PetImages/\"\n",
    "\n",
    "copy_tree(main_dir, work_dir)"
   ]
  },
  {
   "cell_type": "code",
   "execution_count": 3,
   "id": "f0f72425",
   "metadata": {
    "execution": {
     "iopub.execute_input": "2022-02-08T17:18:16.824967Z",
     "iopub.status.busy": "2022-02-08T17:18:16.824286Z",
     "iopub.status.idle": "2022-02-08T17:18:17.780528Z",
     "shell.execute_reply": "2022-02-08T17:18:17.779951Z",
     "shell.execute_reply.started": "2022-02-08T15:34:19.733691Z"
    },
    "id": "mBgOVwYvAkYI",
    "papermill": {
     "duration": 0.970553,
     "end_time": "2022-02-08T17:18:17.780685",
     "exception": false,
     "start_time": "2022-02-08T17:18:16.810132",
     "status": "completed"
    },
    "tags": []
   },
   "outputs": [
    {
     "name": "stdout",
     "output_type": "stream",
     "text": [
      "Total deleted images is = 1590\n"
     ]
    }
   ],
   "source": [
    "# Let's create function to filter & remove corrupted images\n",
    "def CorruptImage():\n",
    "    num_corrupted = 0\n",
    "    for category in (\"Cat\", \"Dog\"):\n",
    "        path = os.path.join(work_dir, category)\n",
    "\n",
    "        for img in os.listdir(path):\n",
    "            image_path = os.path.join(path, img)\n",
    "            try:\n",
    "                file_Obj = open(image_path, \"rb\")\n",
    "                is_jfif = tf.compat.as_bytes(\"JFIF\") in file_Obj.peek(10)\n",
    "            finally:\n",
    "                file_Obj.close()\n",
    "            \n",
    "            if not is_jfif:\n",
    "                num_corrupted +=1\n",
    "                os.remove(image_path)\n",
    "    print(\"Total deleted images is = %d\" % num_corrupted)\n",
    "\n",
    "CorruptImage()"
   ]
  },
  {
   "cell_type": "code",
   "execution_count": 4,
   "id": "c299261f",
   "metadata": {
    "execution": {
     "iopub.execute_input": "2022-02-08T17:18:17.809209Z",
     "iopub.status.busy": "2022-02-08T17:18:17.808549Z",
     "iopub.status.idle": "2022-02-08T17:18:18.049588Z",
     "shell.execute_reply": "2022-02-08T17:18:18.049081Z",
     "shell.execute_reply.started": "2022-02-08T15:34:20.719486Z"
    },
    "id": "PjIj5ptXB_tv",
    "papermill": {
     "duration": 0.25826,
     "end_time": "2022-02-08T17:18:18.049737",
     "exception": false,
     "start_time": "2022-02-08T17:18:17.791477",
     "status": "completed"
    },
    "tags": []
   },
   "outputs": [
    {
     "name": "stdout",
     "output_type": "stream",
     "text": [
      "/kaggle/working/PetImages/Cat/Thumbs.db\n",
      "/kaggle/working/PetImages/Dog/Thumbs.db\n",
      "23410\n"
     ]
    }
   ],
   "source": [
    "# Let's function to remove non jpg images\n",
    "def NonJpg():\n",
    "    j=0\n",
    "    for catagory in os.listdir(work_dir):\n",
    "        sub_folder = os.path.join(work_dir, catagory)\n",
    "        for name in os.listdir(sub_folder):\n",
    "            img_path = os.path.join(sub_folder,name)\n",
    "            if name.split('.')[1] == 'jpg':\n",
    "                if os.path.getsize(img_path) <= 0:\n",
    "                    if os.path.isfile(img_path) == False:\n",
    "                        print(img_path)\n",
    "                    os.remove(img_path)\n",
    "                elif os.path.getsize(img_path) > 0:\n",
    "                    j +=1\n",
    "            if name.split('.')[1] != 'jpg':\n",
    "                print(img_path)\n",
    "                os.remove(img_path)\n",
    "    print(j)\n",
    "NonJpg()"
   ]
  },
  {
   "cell_type": "code",
   "execution_count": 5,
   "id": "99ac00d7",
   "metadata": {
    "execution": {
     "iopub.execute_input": "2022-02-08T17:18:18.077408Z",
     "iopub.status.busy": "2022-02-08T17:18:18.076002Z",
     "iopub.status.idle": "2022-02-08T17:18:19.272867Z",
     "shell.execute_reply": "2022-02-08T17:18:19.272122Z",
     "shell.execute_reply.started": "2022-02-08T15:34:21.013905Z"
    },
    "id": "pw-kKAdQfnaf",
    "papermill": {
     "duration": 1.213415,
     "end_time": "2022-02-08T17:18:19.273021",
     "exception": false,
     "start_time": "2022-02-08T17:18:18.059606",
     "status": "completed"
    },
    "tags": []
   },
   "outputs": [
    {
     "name": "stdout",
     "output_type": "stream",
     "text": [
      "Found 23410 files belonging to 2 classes.\n",
      "Using 18728 files for training.\n"
     ]
    },
    {
     "name": "stderr",
     "output_type": "stream",
     "text": [
      "\n",
      "User settings:\n",
      "\n",
      "   KMP_AFFINITY=granularity=fine,noverbose,compact,1,0\n",
      "   KMP_BLOCKTIME=0\n",
      "   KMP_SETTINGS=1\n",
      "   KMP_WARNINGS=0\n",
      "\n",
      "Effective settings:\n",
      "\n",
      "   KMP_ABORT_DELAY=0\n",
      "   KMP_ADAPTIVE_LOCK_PROPS='1,1024'\n",
      "   KMP_ALIGN_ALLOC=64\n",
      "   KMP_ALL_THREADPRIVATE=128\n",
      "   KMP_ATOMIC_MODE=2\n",
      "   KMP_BLOCKTIME=0\n",
      "   KMP_CPUINFO_FILE: value is not defined\n",
      "   KMP_DETERMINISTIC_REDUCTION=false\n",
      "   KMP_DEVICE_THREAD_LIMIT=2147483647\n",
      "   KMP_DISP_NUM_BUFFERS=7\n",
      "   KMP_DUPLICATE_LIB_OK=false\n",
      "   KMP_ENABLE_TASK_THROTTLING=true\n",
      "   KMP_FORCE_REDUCTION: value is not defined\n",
      "   KMP_FOREIGN_THREADS_THREADPRIVATE=true\n",
      "   KMP_FORKJOIN_BARRIER='2,2'\n",
      "   KMP_FORKJOIN_BARRIER_PATTERN='hyper,hyper'\n",
      "   KMP_GTID_MODE=3\n",
      "   KMP_HANDLE_SIGNALS=false\n",
      "   KMP_HOT_TEAMS_MAX_LEVEL=1\n",
      "   KMP_HOT_TEAMS_MODE=0\n",
      "   KMP_INIT_AT_FORK=true\n",
      "   KMP_LIBRARY=throughput\n",
      "   KMP_LOCK_KIND=queuing\n",
      "   KMP_MALLOC_POOL_INCR=1M\n",
      "   KMP_NUM_LOCKS_IN_BLOCK=1\n",
      "   KMP_PLAIN_BARRIER='2,2'\n",
      "   KMP_PLAIN_BARRIER_PATTERN='hyper,hyper'\n",
      "   KMP_REDUCTION_BARRIER='1,1'\n",
      "   KMP_REDUCTION_BARRIER_PATTERN='hyper,hyper'\n",
      "   KMP_SCHEDULE='static,balanced;guided,iterative'\n",
      "   KMP_SETTINGS=true\n",
      "   KMP_SPIN_BACKOFF_PARAMS='4096,100'\n",
      "   KMP_STACKOFFSET=64\n",
      "   KMP_STACKPAD=0\n",
      "   KMP_STACKSIZE=8M\n",
      "   KMP_STORAGE_MAP=false\n",
      "   KMP_TASKING=2\n",
      "   KMP_TASKLOOP_MIN_TASKS=0\n",
      "   KMP_TASK_STEALING_CONSTRAINT=1\n",
      "   KMP_TEAMS_THREAD_LIMIT=4\n",
      "   KMP_TOPOLOGY_METHOD=all\n",
      "   KMP_USE_YIELD=1\n",
      "   KMP_VERSION=false\n",
      "   KMP_WARNINGS=false\n",
      "   OMP_AFFINITY_FORMAT='OMP: pid %P tid %i thread %n bound to OS proc set {%A}'\n",
      "   OMP_ALLOCATOR=omp_default_mem_alloc\n",
      "   OMP_CANCELLATION=false\n",
      "   OMP_DEFAULT_DEVICE=0\n",
      "   OMP_DISPLAY_AFFINITY=false\n",
      "   OMP_DISPLAY_ENV=false\n",
      "   OMP_DYNAMIC=false\n",
      "   OMP_MAX_ACTIVE_LEVELS=1\n",
      "   OMP_MAX_TASK_PRIORITY=0\n",
      "   OMP_NESTED: deprecated; max-active-levels-var=1\n",
      "   OMP_NUM_THREADS: value is not defined\n",
      "   OMP_PLACES: value is not defined\n",
      "   OMP_PROC_BIND='intel'\n",
      "   OMP_SCHEDULE='static'\n",
      "   OMP_STACKSIZE=8M\n",
      "   OMP_TARGET_OFFLOAD=DEFAULT\n",
      "   OMP_THREAD_LIMIT=2147483647\n",
      "   OMP_WAIT_POLICY=PASSIVE\n",
      "   KMP_AFFINITY='noverbose,warnings,respect,granularity=fine,compact,1,0'\n",
      "\n",
      "2022-02-08 17:18:18.619285: I tensorflow/core/common_runtime/process_util.cc:146] Creating new thread pool with default inter op setting: 2. Tune using inter_op_parallelism_threads for best performance.\n"
     ]
    },
    {
     "name": "stdout",
     "output_type": "stream",
     "text": [
      "Found 23410 files belonging to 2 classes.\n",
      "Using 4682 files for validation.\n"
     ]
    }
   ],
   "source": [
    "# Let's split image dataset into Train & validation\n",
    "\n",
    "image_size = (128, 128)\n",
    "\n",
    "train_dataset = preprocessing.image_dataset_from_directory(\n",
    "    work_dir,\n",
    "    image_size = image_size,\n",
    "    validation_split= 0.2,\n",
    "    subset=\"training\",\n",
    "    batch_size =32,    \n",
    "    seed = 1337,\n",
    "    shuffle = True,\n",
    ")\n",
    "\n",
    "test_dataset = preprocessing.image_dataset_from_directory(\n",
    "    work_dir,\n",
    "    image_size = image_size,\n",
    "    validation_split = 0.2,\n",
    "    subset = \"validation\",\n",
    "    batch_size = 32,    \n",
    "    seed = 1337,\n",
    "    shuffle= True,\n",
    ")"
   ]
  },
  {
   "cell_type": "code",
   "execution_count": 6,
   "id": "9660d418",
   "metadata": {
    "execution": {
     "iopub.execute_input": "2022-02-08T17:18:19.306992Z",
     "iopub.status.busy": "2022-02-08T17:18:19.306272Z",
     "iopub.status.idle": "2022-02-08T17:18:19.543747Z",
     "shell.execute_reply": "2022-02-08T17:18:19.544242Z",
     "shell.execute_reply.started": "2022-02-08T15:34:22.895547Z"
    },
    "id": "qw4yWAtkASjn",
    "papermill": {
     "duration": 0.260437,
     "end_time": "2022-02-08T17:18:19.544434",
     "exception": false,
     "start_time": "2022-02-08T17:18:19.283997",
     "status": "completed"
    },
    "tags": []
   },
   "outputs": [],
   "source": [
    "input_shapes=(128, 128, 3)\n",
    "\n",
    "model=Sequential()\n",
    "\n",
    "model.add(experimental.preprocessing.Rescaling(1.0/255, input_shape=(input_shapes)))\n",
    "\n",
    "model.add(Conv2D(16,(3,3),activation='relu',input_shape=input_shapes))\n",
    "model.add(BatchNormalization())\n",
    "model.add(MaxPooling2D(pool_size=(2,2)))\n",
    "model.add(Dropout(0.25))\n",
    "\n",
    "model.add(Conv2D(32,(3,3),activation='relu'))\n",
    "model.add(BatchNormalization())\n",
    "model.add(MaxPooling2D(pool_size=(2,2)))\n",
    "model.add(Dropout(0.25))\n",
    "\n",
    "model.add(Conv2D(64,(3,3),activation='relu'))\n",
    "model.add(BatchNormalization())\n",
    "model.add(MaxPooling2D(pool_size=(2,2)))\n",
    "model.add(Dropout(0.25))\n",
    "model.add(Flatten())\n",
    "\n",
    "model.add(Dense(128,activation='relu'))\n",
    "model.add(BatchNormalization())\n",
    "model.add(Dropout(0.5))\n",
    "model.add(Dense(1,activation='sigmoid'))"
   ]
  },
  {
   "cell_type": "code",
   "execution_count": 7,
   "id": "0f991850",
   "metadata": {
    "execution": {
     "iopub.execute_input": "2022-02-08T17:18:19.575426Z",
     "iopub.status.busy": "2022-02-08T17:18:19.570353Z",
     "iopub.status.idle": "2022-02-08T17:50:58.090354Z",
     "shell.execute_reply": "2022-02-08T17:50:58.090885Z",
     "shell.execute_reply.started": "2022-02-08T15:34:23.158283Z"
    },
    "id": "TOEj8FJy9GIi",
    "outputId": "4c57a5eb-5502-4891-e49b-543544c1497b",
    "papermill": {
     "duration": 1958.535899,
     "end_time": "2022-02-08T17:50:58.091104",
     "exception": false,
     "start_time": "2022-02-08T17:18:19.555205",
     "status": "completed"
    },
    "tags": []
   },
   "outputs": [
    {
     "name": "stdout",
     "output_type": "stream",
     "text": [
      "Epoch 1/15\n"
     ]
    },
    {
     "name": "stderr",
     "output_type": "stream",
     "text": [
      "2022-02-08 17:18:20.585242: I tensorflow/compiler/mlir/mlir_graph_optimization_pass.cc:185] None of the MLIR Optimization Passes are enabled (registered 2)\n",
      "Corrupt JPEG data: 2226 extraneous bytes before marker 0xd9\n"
     ]
    },
    {
     "name": "stdout",
     "output_type": "stream",
     "text": [
      "326/586 [===============>..............] - ETA: 44s - loss: 0.7072 - accuracy: 0.6385"
     ]
    },
    {
     "name": "stderr",
     "output_type": "stream",
     "text": [
      "Corrupt JPEG data: 228 extraneous bytes before marker 0xd9\n"
     ]
    },
    {
     "name": "stdout",
     "output_type": "stream",
     "text": [
      "357/586 [=================>............] - ETA: 39s - loss: 0.6983 - accuracy: 0.6425"
     ]
    },
    {
     "name": "stderr",
     "output_type": "stream",
     "text": [
      "Warning: unknown JFIF revision number 0.00\n"
     ]
    },
    {
     "name": "stdout",
     "output_type": "stream",
     "text": [
      "435/586 [=====================>........] - ETA: 26s - loss: 0.6773 - accuracy: 0.6544"
     ]
    },
    {
     "name": "stderr",
     "output_type": "stream",
     "text": [
      "Corrupt JPEG data: 128 extraneous bytes before marker 0xd9\n"
     ]
    },
    {
     "name": "stdout",
     "output_type": "stream",
     "text": [
      "444/586 [=====================>........] - ETA: 24s - loss: 0.6745 - accuracy: 0.6557"
     ]
    },
    {
     "name": "stderr",
     "output_type": "stream",
     "text": [
      "Corrupt JPEG data: 65 extraneous bytes before marker 0xd9\n"
     ]
    },
    {
     "name": "stdout",
     "output_type": "stream",
     "text": [
      "456/586 [======================>.......] - ETA: 22s - loss: 0.6711 - accuracy: 0.6578"
     ]
    },
    {
     "name": "stderr",
     "output_type": "stream",
     "text": [
      "Corrupt JPEG data: 396 extraneous bytes before marker 0xd9\n"
     ]
    },
    {
     "name": "stdout",
     "output_type": "stream",
     "text": [
      "463/586 [======================>.......] - ETA: 21s - loss: 0.6700 - accuracy: 0.6579"
     ]
    },
    {
     "name": "stderr",
     "output_type": "stream",
     "text": [
      "Corrupt JPEG data: 239 extraneous bytes before marker 0xd9\n"
     ]
    },
    {
     "name": "stdout",
     "output_type": "stream",
     "text": [
      "586/586 [==============================] - ETA: 0s - loss: 0.6534 - accuracy: 0.6652"
     ]
    },
    {
     "name": "stderr",
     "output_type": "stream",
     "text": [
      "Corrupt JPEG data: 252 extraneous bytes before marker 0xd9\n",
      "Corrupt JPEG data: 1153 extraneous bytes before marker 0xd9\n",
      "Corrupt JPEG data: 162 extraneous bytes before marker 0xd9\n",
      "Corrupt JPEG data: 214 extraneous bytes before marker 0xd9\n",
      "Corrupt JPEG data: 99 extraneous bytes before marker 0xd9\n",
      "Corrupt JPEG data: 1403 extraneous bytes before marker 0xd9\n"
     ]
    },
    {
     "name": "stdout",
     "output_type": "stream",
     "text": [
      "586/586 [==============================] - 111s 186ms/step - loss: 0.6534 - accuracy: 0.6652 - val_loss: 0.7347 - val_accuracy: 0.5961\n",
      "Epoch 2/15\n"
     ]
    },
    {
     "name": "stderr",
     "output_type": "stream",
     "text": [
      "Corrupt JPEG data: 2226 extraneous bytes before marker 0xd9\n"
     ]
    },
    {
     "name": "stdout",
     "output_type": "stream",
     "text": [
      "326/586 [===============>..............] - ETA: 44s - loss: 0.5275 - accuracy: 0.7387"
     ]
    },
    {
     "name": "stderr",
     "output_type": "stream",
     "text": [
      "Corrupt JPEG data: 228 extraneous bytes before marker 0xd9\n"
     ]
    },
    {
     "name": "stdout",
     "output_type": "stream",
     "text": [
      "357/586 [=================>............] - ETA: 39s - loss: 0.5245 - accuracy: 0.7400"
     ]
    },
    {
     "name": "stderr",
     "output_type": "stream",
     "text": [
      "Warning: unknown JFIF revision number 0.00\n"
     ]
    },
    {
     "name": "stdout",
     "output_type": "stream",
     "text": [
      "435/586 [=====================>........] - ETA: 25s - loss: 0.5188 - accuracy: 0.7450"
     ]
    },
    {
     "name": "stderr",
     "output_type": "stream",
     "text": [
      "Corrupt JPEG data: 128 extraneous bytes before marker 0xd9\n"
     ]
    },
    {
     "name": "stdout",
     "output_type": "stream",
     "text": [
      "444/586 [=====================>........] - ETA: 24s - loss: 0.5178 - accuracy: 0.7457"
     ]
    },
    {
     "name": "stderr",
     "output_type": "stream",
     "text": [
      "Corrupt JPEG data: 65 extraneous bytes before marker 0xd9\n"
     ]
    },
    {
     "name": "stdout",
     "output_type": "stream",
     "text": [
      "456/586 [======================>.......] - ETA: 22s - loss: 0.5171 - accuracy: 0.7457"
     ]
    },
    {
     "name": "stderr",
     "output_type": "stream",
     "text": [
      "Corrupt JPEG data: 396 extraneous bytes before marker 0xd9\n"
     ]
    },
    {
     "name": "stdout",
     "output_type": "stream",
     "text": [
      "463/586 [======================>.......] - ETA: 20s - loss: 0.5166 - accuracy: 0.7463"
     ]
    },
    {
     "name": "stderr",
     "output_type": "stream",
     "text": [
      "Corrupt JPEG data: 239 extraneous bytes before marker 0xd9\n"
     ]
    },
    {
     "name": "stdout",
     "output_type": "stream",
     "text": [
      "585/586 [============================>.] - ETA: 0s - loss: 0.5116 - accuracy: 0.7496"
     ]
    },
    {
     "name": "stderr",
     "output_type": "stream",
     "text": [
      "Corrupt JPEG data: 252 extraneous bytes before marker 0xd9\n",
      "Corrupt JPEG data: 1153 extraneous bytes before marker 0xd9\n",
      "Corrupt JPEG data: 162 extraneous bytes before marker 0xd9\n",
      "Corrupt JPEG data: 214 extraneous bytes before marker 0xd9\n",
      "Corrupt JPEG data: 99 extraneous bytes before marker 0xd9\n",
      "Corrupt JPEG data: 1403 extraneous bytes before marker 0xd9\n"
     ]
    },
    {
     "name": "stdout",
     "output_type": "stream",
     "text": [
      "586/586 [==============================] - 105s 178ms/step - loss: 0.5116 - accuracy: 0.7495 - val_loss: 0.5681 - val_accuracy: 0.7078\n",
      "Epoch 3/15\n"
     ]
    },
    {
     "name": "stderr",
     "output_type": "stream",
     "text": [
      "Corrupt JPEG data: 2226 extraneous bytes before marker 0xd9\n"
     ]
    },
    {
     "name": "stdout",
     "output_type": "stream",
     "text": [
      "326/586 [===============>..............] - ETA: 43s - loss: 0.4528 - accuracy: 0.7891"
     ]
    },
    {
     "name": "stderr",
     "output_type": "stream",
     "text": [
      "Corrupt JPEG data: 228 extraneous bytes before marker 0xd9\n"
     ]
    },
    {
     "name": "stdout",
     "output_type": "stream",
     "text": [
      "357/586 [=================>............] - ETA: 38s - loss: 0.4530 - accuracy: 0.7876"
     ]
    },
    {
     "name": "stderr",
     "output_type": "stream",
     "text": [
      "Warning: unknown JFIF revision number 0.00\n"
     ]
    },
    {
     "name": "stdout",
     "output_type": "stream",
     "text": [
      "435/586 [=====================>........] - ETA: 25s - loss: 0.4492 - accuracy: 0.7910"
     ]
    },
    {
     "name": "stderr",
     "output_type": "stream",
     "text": [
      "Corrupt JPEG data: 128 extraneous bytes before marker 0xd9\n"
     ]
    },
    {
     "name": "stdout",
     "output_type": "stream",
     "text": [
      "444/586 [=====================>........] - ETA: 23s - loss: 0.4490 - accuracy: 0.7909"
     ]
    },
    {
     "name": "stderr",
     "output_type": "stream",
     "text": [
      "Corrupt JPEG data: 65 extraneous bytes before marker 0xd9\n"
     ]
    },
    {
     "name": "stdout",
     "output_type": "stream",
     "text": [
      "456/586 [======================>.......] - ETA: 21s - loss: 0.4496 - accuracy: 0.7909"
     ]
    },
    {
     "name": "stderr",
     "output_type": "stream",
     "text": [
      "Corrupt JPEG data: 396 extraneous bytes before marker 0xd9\n"
     ]
    },
    {
     "name": "stdout",
     "output_type": "stream",
     "text": [
      "463/586 [======================>.......] - ETA: 20s - loss: 0.4496 - accuracy: 0.7909"
     ]
    },
    {
     "name": "stderr",
     "output_type": "stream",
     "text": [
      "Corrupt JPEG data: 239 extraneous bytes before marker 0xd9\n"
     ]
    },
    {
     "name": "stdout",
     "output_type": "stream",
     "text": [
      "585/586 [============================>.] - ETA: 0s - loss: 0.4480 - accuracy: 0.7920"
     ]
    },
    {
     "name": "stderr",
     "output_type": "stream",
     "text": [
      "Corrupt JPEG data: 252 extraneous bytes before marker 0xd9\n",
      "Corrupt JPEG data: 1153 extraneous bytes before marker 0xd9\n",
      "Corrupt JPEG data: 162 extraneous bytes before marker 0xd9\n",
      "Corrupt JPEG data: 214 extraneous bytes before marker 0xd9\n",
      "Corrupt JPEG data: 99 extraneous bytes before marker 0xd9\n",
      "Corrupt JPEG data: 1403 extraneous bytes before marker 0xd9\n"
     ]
    },
    {
     "name": "stdout",
     "output_type": "stream",
     "text": [
      "586/586 [==============================] - 103s 176ms/step - loss: 0.4480 - accuracy: 0.7920 - val_loss: 0.4430 - val_accuracy: 0.7982\n",
      "Epoch 4/15\n"
     ]
    },
    {
     "name": "stderr",
     "output_type": "stream",
     "text": [
      "Corrupt JPEG data: 2226 extraneous bytes before marker 0xd9\n"
     ]
    },
    {
     "name": "stdout",
     "output_type": "stream",
     "text": [
      "326/586 [===============>..............] - ETA: 42s - loss: 0.4227 - accuracy: 0.8072"
     ]
    },
    {
     "name": "stderr",
     "output_type": "stream",
     "text": [
      "Corrupt JPEG data: 228 extraneous bytes before marker 0xd9\n"
     ]
    },
    {
     "name": "stdout",
     "output_type": "stream",
     "text": [
      "356/586 [=================>............] - ETA: 37s - loss: 0.4210 - accuracy: 0.8083"
     ]
    },
    {
     "name": "stderr",
     "output_type": "stream",
     "text": [
      "Warning: unknown JFIF revision number 0.00\n"
     ]
    },
    {
     "name": "stdout",
     "output_type": "stream",
     "text": [
      "435/586 [=====================>........] - ETA: 25s - loss: 0.4202 - accuracy: 0.8081"
     ]
    },
    {
     "name": "stderr",
     "output_type": "stream",
     "text": [
      "Corrupt JPEG data: 128 extraneous bytes before marker 0xd9\n"
     ]
    },
    {
     "name": "stdout",
     "output_type": "stream",
     "text": [
      "443/586 [=====================>........] - ETA: 23s - loss: 0.4200 - accuracy: 0.8081"
     ]
    },
    {
     "name": "stderr",
     "output_type": "stream",
     "text": [
      "Corrupt JPEG data: 65 extraneous bytes before marker 0xd9\n"
     ]
    },
    {
     "name": "stdout",
     "output_type": "stream",
     "text": [
      "456/586 [======================>.......] - ETA: 21s - loss: 0.4194 - accuracy: 0.8082"
     ]
    },
    {
     "name": "stderr",
     "output_type": "stream",
     "text": [
      "Corrupt JPEG data: 396 extraneous bytes before marker 0xd9\n"
     ]
    },
    {
     "name": "stdout",
     "output_type": "stream",
     "text": [
      "463/586 [======================>.......] - ETA: 20s - loss: 0.4195 - accuracy: 0.8080"
     ]
    },
    {
     "name": "stderr",
     "output_type": "stream",
     "text": [
      "Corrupt JPEG data: 239 extraneous bytes before marker 0xd9\n"
     ]
    },
    {
     "name": "stdout",
     "output_type": "stream",
     "text": [
      "586/586 [==============================] - ETA: 0s - loss: 0.4153 - accuracy: 0.8117"
     ]
    },
    {
     "name": "stderr",
     "output_type": "stream",
     "text": [
      "Corrupt JPEG data: 252 extraneous bytes before marker 0xd9\n",
      "Corrupt JPEG data: 1153 extraneous bytes before marker 0xd9\n",
      "Corrupt JPEG data: 162 extraneous bytes before marker 0xd9\n",
      "Corrupt JPEG data: 214 extraneous bytes before marker 0xd9\n",
      "Corrupt JPEG data: 99 extraneous bytes before marker 0xd9\n",
      "Corrupt JPEG data: 1403 extraneous bytes before marker 0xd9\n"
     ]
    },
    {
     "name": "stdout",
     "output_type": "stream",
     "text": [
      "586/586 [==============================] - 106s 180ms/step - loss: 0.4153 - accuracy: 0.8117 - val_loss: 0.4068 - val_accuracy: 0.8238\n",
      "Epoch 5/15\n"
     ]
    },
    {
     "name": "stderr",
     "output_type": "stream",
     "text": [
      "Corrupt JPEG data: 2226 extraneous bytes before marker 0xd9\n"
     ]
    },
    {
     "name": "stdout",
     "output_type": "stream",
     "text": [
      "326/586 [===============>..............] - ETA: 42s - loss: 0.3854 - accuracy: 0.8255"
     ]
    },
    {
     "name": "stderr",
     "output_type": "stream",
     "text": [
      "Corrupt JPEG data: 228 extraneous bytes before marker 0xd9\n"
     ]
    },
    {
     "name": "stdout",
     "output_type": "stream",
     "text": [
      "357/586 [=================>............] - ETA: 37s - loss: 0.3851 - accuracy: 0.8254"
     ]
    },
    {
     "name": "stderr",
     "output_type": "stream",
     "text": [
      "Warning: unknown JFIF revision number 0.00\n"
     ]
    },
    {
     "name": "stdout",
     "output_type": "stream",
     "text": [
      "435/586 [=====================>........] - ETA: 24s - loss: 0.3841 - accuracy: 0.8258"
     ]
    },
    {
     "name": "stderr",
     "output_type": "stream",
     "text": [
      "Corrupt JPEG data: 128 extraneous bytes before marker 0xd9\n"
     ]
    },
    {
     "name": "stdout",
     "output_type": "stream",
     "text": [
      "444/586 [=====================>........] - ETA: 23s - loss: 0.3833 - accuracy: 0.8266"
     ]
    },
    {
     "name": "stderr",
     "output_type": "stream",
     "text": [
      "Corrupt JPEG data: 65 extraneous bytes before marker 0xd9\n"
     ]
    },
    {
     "name": "stdout",
     "output_type": "stream",
     "text": [
      "456/586 [======================>.......] - ETA: 21s - loss: 0.3820 - accuracy: 0.8277"
     ]
    },
    {
     "name": "stderr",
     "output_type": "stream",
     "text": [
      "Corrupt JPEG data: 396 extraneous bytes before marker 0xd9\n"
     ]
    },
    {
     "name": "stdout",
     "output_type": "stream",
     "text": [
      "463/586 [======================>.......] - ETA: 20s - loss: 0.3822 - accuracy: 0.8270"
     ]
    },
    {
     "name": "stderr",
     "output_type": "stream",
     "text": [
      "Corrupt JPEG data: 239 extraneous bytes before marker 0xd9\n"
     ]
    },
    {
     "name": "stdout",
     "output_type": "stream",
     "text": [
      "586/586 [==============================] - ETA: 0s - loss: 0.3825 - accuracy: 0.8276"
     ]
    },
    {
     "name": "stderr",
     "output_type": "stream",
     "text": [
      "Corrupt JPEG data: 252 extraneous bytes before marker 0xd9\n",
      "Corrupt JPEG data: 1153 extraneous bytes before marker 0xd9\n",
      "Corrupt JPEG data: 162 extraneous bytes before marker 0xd9\n",
      "Corrupt JPEG data: 214 extraneous bytes before marker 0xd9\n",
      "Corrupt JPEG data: 99 extraneous bytes before marker 0xd9\n",
      "Corrupt JPEG data: 1403 extraneous bytes before marker 0xd9\n"
     ]
    },
    {
     "name": "stdout",
     "output_type": "stream",
     "text": [
      "586/586 [==============================] - 110s 187ms/step - loss: 0.3825 - accuracy: 0.8276 - val_loss: 0.4146 - val_accuracy: 0.8232\n",
      "Epoch 6/15\n"
     ]
    },
    {
     "name": "stderr",
     "output_type": "stream",
     "text": [
      "Corrupt JPEG data: 2226 extraneous bytes before marker 0xd9\n"
     ]
    },
    {
     "name": "stdout",
     "output_type": "stream",
     "text": [
      "326/586 [===============>..............] - ETA: 44s - loss: 0.3619 - accuracy: 0.8404"
     ]
    },
    {
     "name": "stderr",
     "output_type": "stream",
     "text": [
      "Corrupt JPEG data: 228 extraneous bytes before marker 0xd9\n"
     ]
    },
    {
     "name": "stdout",
     "output_type": "stream",
     "text": [
      "357/586 [=================>............] - ETA: 38s - loss: 0.3612 - accuracy: 0.8406"
     ]
    },
    {
     "name": "stderr",
     "output_type": "stream",
     "text": [
      "Warning: unknown JFIF revision number 0.00\n"
     ]
    },
    {
     "name": "stdout",
     "output_type": "stream",
     "text": [
      "435/586 [=====================>........] - ETA: 26s - loss: 0.3593 - accuracy: 0.8425"
     ]
    },
    {
     "name": "stderr",
     "output_type": "stream",
     "text": [
      "Corrupt JPEG data: 128 extraneous bytes before marker 0xd9\n"
     ]
    },
    {
     "name": "stdout",
     "output_type": "stream",
     "text": [
      "444/586 [=====================>........] - ETA: 24s - loss: 0.3589 - accuracy: 0.8428"
     ]
    },
    {
     "name": "stderr",
     "output_type": "stream",
     "text": [
      "Corrupt JPEG data: 65 extraneous bytes before marker 0xd9\n"
     ]
    },
    {
     "name": "stdout",
     "output_type": "stream",
     "text": [
      "456/586 [======================>.......] - ETA: 22s - loss: 0.3585 - accuracy: 0.8429"
     ]
    },
    {
     "name": "stderr",
     "output_type": "stream",
     "text": [
      "Corrupt JPEG data: 396 extraneous bytes before marker 0xd9\n"
     ]
    },
    {
     "name": "stdout",
     "output_type": "stream",
     "text": [
      "463/586 [======================>.......] - ETA: 21s - loss: 0.3577 - accuracy: 0.8431"
     ]
    },
    {
     "name": "stderr",
     "output_type": "stream",
     "text": [
      "Corrupt JPEG data: 239 extraneous bytes before marker 0xd9\n"
     ]
    },
    {
     "name": "stdout",
     "output_type": "stream",
     "text": [
      "585/586 [============================>.] - ETA: 0s - loss: 0.3556 - accuracy: 0.8434"
     ]
    },
    {
     "name": "stderr",
     "output_type": "stream",
     "text": [
      "Corrupt JPEG data: 252 extraneous bytes before marker 0xd9\n",
      "Corrupt JPEG data: 1153 extraneous bytes before marker 0xd9\n",
      "Corrupt JPEG data: 162 extraneous bytes before marker 0xd9\n",
      "Corrupt JPEG data: 214 extraneous bytes before marker 0xd9\n",
      "Corrupt JPEG data: 99 extraneous bytes before marker 0xd9\n",
      "Corrupt JPEG data: 1403 extraneous bytes before marker 0xd9\n"
     ]
    },
    {
     "name": "stdout",
     "output_type": "stream",
     "text": [
      "586/586 [==============================] - 108s 185ms/step - loss: 0.3556 - accuracy: 0.8433 - val_loss: 0.3887 - val_accuracy: 0.8300\n",
      "Epoch 7/15\n"
     ]
    },
    {
     "name": "stderr",
     "output_type": "stream",
     "text": [
      "Corrupt JPEG data: 2226 extraneous bytes before marker 0xd9\n"
     ]
    },
    {
     "name": "stdout",
     "output_type": "stream",
     "text": [
      "326/586 [===============>..............] - ETA: 44s - loss: 0.3280 - accuracy: 0.8574"
     ]
    },
    {
     "name": "stderr",
     "output_type": "stream",
     "text": [
      "Corrupt JPEG data: 228 extraneous bytes before marker 0xd9\n"
     ]
    },
    {
     "name": "stdout",
     "output_type": "stream",
     "text": [
      "357/586 [=================>............] - ETA: 39s - loss: 0.3279 - accuracy: 0.8573"
     ]
    },
    {
     "name": "stderr",
     "output_type": "stream",
     "text": [
      "Warning: unknown JFIF revision number 0.00\n"
     ]
    },
    {
     "name": "stdout",
     "output_type": "stream",
     "text": [
      "435/586 [=====================>........] - ETA: 26s - loss: 0.3306 - accuracy: 0.8565"
     ]
    },
    {
     "name": "stderr",
     "output_type": "stream",
     "text": [
      "Corrupt JPEG data: 128 extraneous bytes before marker 0xd9\n"
     ]
    },
    {
     "name": "stdout",
     "output_type": "stream",
     "text": [
      "444/586 [=====================>........] - ETA: 24s - loss: 0.3297 - accuracy: 0.8567"
     ]
    },
    {
     "name": "stderr",
     "output_type": "stream",
     "text": [
      "Corrupt JPEG data: 65 extraneous bytes before marker 0xd9\n"
     ]
    },
    {
     "name": "stdout",
     "output_type": "stream",
     "text": [
      "456/586 [======================>.......] - ETA: 22s - loss: 0.3284 - accuracy: 0.8579"
     ]
    },
    {
     "name": "stderr",
     "output_type": "stream",
     "text": [
      "Corrupt JPEG data: 396 extraneous bytes before marker 0xd9\n"
     ]
    },
    {
     "name": "stdout",
     "output_type": "stream",
     "text": [
      "463/586 [======================>.......] - ETA: 21s - loss: 0.3282 - accuracy: 0.8579"
     ]
    },
    {
     "name": "stderr",
     "output_type": "stream",
     "text": [
      "Corrupt JPEG data: 239 extraneous bytes before marker 0xd9\n"
     ]
    },
    {
     "name": "stdout",
     "output_type": "stream",
     "text": [
      "586/586 [==============================] - ETA: 0s - loss: 0.3258 - accuracy: 0.8588"
     ]
    },
    {
     "name": "stderr",
     "output_type": "stream",
     "text": [
      "Corrupt JPEG data: 252 extraneous bytes before marker 0xd9\n",
      "Corrupt JPEG data: 1153 extraneous bytes before marker 0xd9\n",
      "Corrupt JPEG data: 162 extraneous bytes before marker 0xd9\n",
      "Corrupt JPEG data: 214 extraneous bytes before marker 0xd9\n",
      "Corrupt JPEG data: 99 extraneous bytes before marker 0xd9\n",
      "Corrupt JPEG data: 1403 extraneous bytes before marker 0xd9\n"
     ]
    },
    {
     "name": "stdout",
     "output_type": "stream",
     "text": [
      "586/586 [==============================] - 109s 186ms/step - loss: 0.3258 - accuracy: 0.8588 - val_loss: 0.3965 - val_accuracy: 0.8180\n",
      "Epoch 8/15\n"
     ]
    },
    {
     "name": "stderr",
     "output_type": "stream",
     "text": [
      "Corrupt JPEG data: 2226 extraneous bytes before marker 0xd9\n"
     ]
    },
    {
     "name": "stdout",
     "output_type": "stream",
     "text": [
      "326/586 [===============>..............] - ETA: 44s - loss: 0.3323 - accuracy: 0.8571"
     ]
    },
    {
     "name": "stderr",
     "output_type": "stream",
     "text": [
      "Corrupt JPEG data: 228 extraneous bytes before marker 0xd9\n"
     ]
    },
    {
     "name": "stdout",
     "output_type": "stream",
     "text": [
      "357/586 [=================>............] - ETA: 38s - loss: 0.3275 - accuracy: 0.8598"
     ]
    },
    {
     "name": "stderr",
     "output_type": "stream",
     "text": [
      "Warning: unknown JFIF revision number 0.00\n"
     ]
    },
    {
     "name": "stdout",
     "output_type": "stream",
     "text": [
      "435/586 [=====================>........] - ETA: 25s - loss: 0.3258 - accuracy: 0.8601"
     ]
    },
    {
     "name": "stderr",
     "output_type": "stream",
     "text": [
      "Corrupt JPEG data: 128 extraneous bytes before marker 0xd9\n"
     ]
    },
    {
     "name": "stdout",
     "output_type": "stream",
     "text": [
      "444/586 [=====================>........] - ETA: 24s - loss: 0.3257 - accuracy: 0.8599"
     ]
    },
    {
     "name": "stderr",
     "output_type": "stream",
     "text": [
      "Corrupt JPEG data: 65 extraneous bytes before marker 0xd9\n"
     ]
    },
    {
     "name": "stdout",
     "output_type": "stream",
     "text": [
      "456/586 [======================>.......] - ETA: 22s - loss: 0.3248 - accuracy: 0.8606"
     ]
    },
    {
     "name": "stderr",
     "output_type": "stream",
     "text": [
      "Corrupt JPEG data: 396 extraneous bytes before marker 0xd9\n"
     ]
    },
    {
     "name": "stdout",
     "output_type": "stream",
     "text": [
      "463/586 [======================>.......] - ETA: 20s - loss: 0.3255 - accuracy: 0.8605"
     ]
    },
    {
     "name": "stderr",
     "output_type": "stream",
     "text": [
      "Corrupt JPEG data: 239 extraneous bytes before marker 0xd9\n"
     ]
    },
    {
     "name": "stdout",
     "output_type": "stream",
     "text": [
      "586/586 [==============================] - ETA: 0s - loss: 0.3219 - accuracy: 0.8629"
     ]
    },
    {
     "name": "stderr",
     "output_type": "stream",
     "text": [
      "Corrupt JPEG data: 252 extraneous bytes before marker 0xd9\n",
      "Corrupt JPEG data: 1153 extraneous bytes before marker 0xd9\n",
      "Corrupt JPEG data: 162 extraneous bytes before marker 0xd9\n",
      "Corrupt JPEG data: 214 extraneous bytes before marker 0xd9\n",
      "Corrupt JPEG data: 99 extraneous bytes before marker 0xd9\n",
      "Corrupt JPEG data: 1403 extraneous bytes before marker 0xd9\n"
     ]
    },
    {
     "name": "stdout",
     "output_type": "stream",
     "text": [
      "586/586 [==============================] - 109s 186ms/step - loss: 0.3219 - accuracy: 0.8629 - val_loss: 0.4238 - val_accuracy: 0.8056\n",
      "Epoch 9/15\n"
     ]
    },
    {
     "name": "stderr",
     "output_type": "stream",
     "text": [
      "Corrupt JPEG data: 2226 extraneous bytes before marker 0xd9\n"
     ]
    },
    {
     "name": "stdout",
     "output_type": "stream",
     "text": [
      "326/586 [===============>..............] - ETA: 47s - loss: 0.3068 - accuracy: 0.8686"
     ]
    },
    {
     "name": "stderr",
     "output_type": "stream",
     "text": [
      "Corrupt JPEG data: 228 extraneous bytes before marker 0xd9\n"
     ]
    },
    {
     "name": "stdout",
     "output_type": "stream",
     "text": [
      "356/586 [=================>............] - ETA: 42s - loss: 0.3046 - accuracy: 0.8706"
     ]
    },
    {
     "name": "stderr",
     "output_type": "stream",
     "text": [
      "Warning: unknown JFIF revision number 0.00\n"
     ]
    },
    {
     "name": "stdout",
     "output_type": "stream",
     "text": [
      "435/586 [=====================>........] - ETA: 28s - loss: 0.3014 - accuracy: 0.8708"
     ]
    },
    {
     "name": "stderr",
     "output_type": "stream",
     "text": [
      "Corrupt JPEG data: 128 extraneous bytes before marker 0xd9\n"
     ]
    },
    {
     "name": "stdout",
     "output_type": "stream",
     "text": [
      "444/586 [=====================>........] - ETA: 26s - loss: 0.2996 - accuracy: 0.8719"
     ]
    },
    {
     "name": "stderr",
     "output_type": "stream",
     "text": [
      "Corrupt JPEG data: 65 extraneous bytes before marker 0xd9\n"
     ]
    },
    {
     "name": "stdout",
     "output_type": "stream",
     "text": [
      "456/586 [======================>.......] - ETA: 24s - loss: 0.2987 - accuracy: 0.8721"
     ]
    },
    {
     "name": "stderr",
     "output_type": "stream",
     "text": [
      "Corrupt JPEG data: 396 extraneous bytes before marker 0xd9\n"
     ]
    },
    {
     "name": "stdout",
     "output_type": "stream",
     "text": [
      "463/586 [======================>.......] - ETA: 22s - loss: 0.2979 - accuracy: 0.8725"
     ]
    },
    {
     "name": "stderr",
     "output_type": "stream",
     "text": [
      "Corrupt JPEG data: 239 extraneous bytes before marker 0xd9\n"
     ]
    },
    {
     "name": "stdout",
     "output_type": "stream",
     "text": [
      "586/586 [==============================] - ETA: 0s - loss: 0.2936 - accuracy: 0.8741"
     ]
    },
    {
     "name": "stderr",
     "output_type": "stream",
     "text": [
      "Corrupt JPEG data: 252 extraneous bytes before marker 0xd9\n",
      "Corrupt JPEG data: 1153 extraneous bytes before marker 0xd9\n",
      "Corrupt JPEG data: 162 extraneous bytes before marker 0xd9\n",
      "Corrupt JPEG data: 214 extraneous bytes before marker 0xd9\n",
      "Corrupt JPEG data: 99 extraneous bytes before marker 0xd9\n",
      "Corrupt JPEG data: 1403 extraneous bytes before marker 0xd9\n"
     ]
    },
    {
     "name": "stdout",
     "output_type": "stream",
     "text": [
      "586/586 [==============================] - 115s 196ms/step - loss: 0.2936 - accuracy: 0.8741 - val_loss: 0.5187 - val_accuracy: 0.7913\n",
      "Epoch 10/15\n"
     ]
    },
    {
     "name": "stderr",
     "output_type": "stream",
     "text": [
      "Corrupt JPEG data: 2226 extraneous bytes before marker 0xd9\n"
     ]
    },
    {
     "name": "stdout",
     "output_type": "stream",
     "text": [
      "326/586 [===============>..............] - ETA: 45s - loss: 0.2696 - accuracy: 0.8831"
     ]
    },
    {
     "name": "stderr",
     "output_type": "stream",
     "text": [
      "Corrupt JPEG data: 228 extraneous bytes before marker 0xd9\n"
     ]
    },
    {
     "name": "stdout",
     "output_type": "stream",
     "text": [
      "357/586 [=================>............] - ETA: 39s - loss: 0.2676 - accuracy: 0.8841"
     ]
    },
    {
     "name": "stderr",
     "output_type": "stream",
     "text": [
      "Warning: unknown JFIF revision number 0.00\n"
     ]
    },
    {
     "name": "stdout",
     "output_type": "stream",
     "text": [
      "435/586 [=====================>........] - ETA: 26s - loss: 0.2659 - accuracy: 0.8858"
     ]
    },
    {
     "name": "stderr",
     "output_type": "stream",
     "text": [
      "Corrupt JPEG data: 128 extraneous bytes before marker 0xd9\n"
     ]
    },
    {
     "name": "stdout",
     "output_type": "stream",
     "text": [
      "444/586 [=====================>........] - ETA: 24s - loss: 0.2651 - accuracy: 0.8858"
     ]
    },
    {
     "name": "stderr",
     "output_type": "stream",
     "text": [
      "Corrupt JPEG data: 65 extraneous bytes before marker 0xd9\n"
     ]
    },
    {
     "name": "stdout",
     "output_type": "stream",
     "text": [
      "456/586 [======================>.......] - ETA: 22s - loss: 0.2647 - accuracy: 0.8864"
     ]
    },
    {
     "name": "stderr",
     "output_type": "stream",
     "text": [
      "Corrupt JPEG data: 396 extraneous bytes before marker 0xd9\n"
     ]
    },
    {
     "name": "stdout",
     "output_type": "stream",
     "text": [
      "463/586 [======================>.......] - ETA: 21s - loss: 0.2651 - accuracy: 0.8865"
     ]
    },
    {
     "name": "stderr",
     "output_type": "stream",
     "text": [
      "Corrupt JPEG data: 239 extraneous bytes before marker 0xd9\n"
     ]
    },
    {
     "name": "stdout",
     "output_type": "stream",
     "text": [
      "586/586 [==============================] - ETA: 0s - loss: 0.2618 - accuracy: 0.8892"
     ]
    },
    {
     "name": "stderr",
     "output_type": "stream",
     "text": [
      "Corrupt JPEG data: 252 extraneous bytes before marker 0xd9\n",
      "Corrupt JPEG data: 1153 extraneous bytes before marker 0xd9\n",
      "Corrupt JPEG data: 162 extraneous bytes before marker 0xd9\n",
      "Corrupt JPEG data: 214 extraneous bytes before marker 0xd9\n",
      "Corrupt JPEG data: 99 extraneous bytes before marker 0xd9\n",
      "Corrupt JPEG data: 1403 extraneous bytes before marker 0xd9\n"
     ]
    },
    {
     "name": "stdout",
     "output_type": "stream",
     "text": [
      "586/586 [==============================] - 109s 186ms/step - loss: 0.2618 - accuracy: 0.8892 - val_loss: 0.5070 - val_accuracy: 0.8106\n",
      "Epoch 11/15\n"
     ]
    },
    {
     "name": "stderr",
     "output_type": "stream",
     "text": [
      "Corrupt JPEG data: 2226 extraneous bytes before marker 0xd9\n"
     ]
    },
    {
     "name": "stdout",
     "output_type": "stream",
     "text": [
      "326/586 [===============>..............] - ETA: 44s - loss: 0.2548 - accuracy: 0.8912"
     ]
    },
    {
     "name": "stderr",
     "output_type": "stream",
     "text": [
      "Corrupt JPEG data: 228 extraneous bytes before marker 0xd9\n"
     ]
    },
    {
     "name": "stdout",
     "output_type": "stream",
     "text": [
      "357/586 [=================>............] - ETA: 38s - loss: 0.2546 - accuracy: 0.8905"
     ]
    },
    {
     "name": "stderr",
     "output_type": "stream",
     "text": [
      "Warning: unknown JFIF revision number 0.00\n"
     ]
    },
    {
     "name": "stdout",
     "output_type": "stream",
     "text": [
      "435/586 [=====================>........] - ETA: 25s - loss: 0.2562 - accuracy: 0.8907"
     ]
    },
    {
     "name": "stderr",
     "output_type": "stream",
     "text": [
      "Corrupt JPEG data: 128 extraneous bytes before marker 0xd9\n"
     ]
    },
    {
     "name": "stdout",
     "output_type": "stream",
     "text": [
      "444/586 [=====================>........] - ETA: 24s - loss: 0.2556 - accuracy: 0.8910"
     ]
    },
    {
     "name": "stderr",
     "output_type": "stream",
     "text": [
      "Corrupt JPEG data: 65 extraneous bytes before marker 0xd9\n"
     ]
    },
    {
     "name": "stdout",
     "output_type": "stream",
     "text": [
      "456/586 [======================>.......] - ETA: 22s - loss: 0.2551 - accuracy: 0.8910"
     ]
    },
    {
     "name": "stderr",
     "output_type": "stream",
     "text": [
      "Corrupt JPEG data: 396 extraneous bytes before marker 0xd9\n"
     ]
    },
    {
     "name": "stdout",
     "output_type": "stream",
     "text": [
      "463/586 [======================>.......] - ETA: 20s - loss: 0.2545 - accuracy: 0.8913"
     ]
    },
    {
     "name": "stderr",
     "output_type": "stream",
     "text": [
      "Corrupt JPEG data: 239 extraneous bytes before marker 0xd9\n"
     ]
    },
    {
     "name": "stdout",
     "output_type": "stream",
     "text": [
      "585/586 [============================>.] - ETA: 0s - loss: 0.2521 - accuracy: 0.8925"
     ]
    },
    {
     "name": "stderr",
     "output_type": "stream",
     "text": [
      "Corrupt JPEG data: 252 extraneous bytes before marker 0xd9\n",
      "Corrupt JPEG data: 1153 extraneous bytes before marker 0xd9\n",
      "Corrupt JPEG data: 162 extraneous bytes before marker 0xd9\n",
      "Corrupt JPEG data: 214 extraneous bytes before marker 0xd9\n",
      "Corrupt JPEG data: 99 extraneous bytes before marker 0xd9\n",
      "Corrupt JPEG data: 1403 extraneous bytes before marker 0xd9\n"
     ]
    },
    {
     "name": "stdout",
     "output_type": "stream",
     "text": [
      "586/586 [==============================] - 108s 183ms/step - loss: 0.2520 - accuracy: 0.8925 - val_loss: 0.4549 - val_accuracy: 0.7930\n",
      "Epoch 12/15\n"
     ]
    },
    {
     "name": "stderr",
     "output_type": "stream",
     "text": [
      "Corrupt JPEG data: 2226 extraneous bytes before marker 0xd9\n"
     ]
    },
    {
     "name": "stdout",
     "output_type": "stream",
     "text": [
      "326/586 [===============>..............] - ETA: 43s - loss: 0.2305 - accuracy: 0.9065"
     ]
    },
    {
     "name": "stderr",
     "output_type": "stream",
     "text": [
      "Corrupt JPEG data: 228 extraneous bytes before marker 0xd9\n"
     ]
    },
    {
     "name": "stdout",
     "output_type": "stream",
     "text": [
      "357/586 [=================>............] - ETA: 37s - loss: 0.2300 - accuracy: 0.9070"
     ]
    },
    {
     "name": "stderr",
     "output_type": "stream",
     "text": [
      "Warning: unknown JFIF revision number 0.00\n"
     ]
    },
    {
     "name": "stdout",
     "output_type": "stream",
     "text": [
      "435/586 [=====================>........] - ETA: 25s - loss: 0.2268 - accuracy: 0.9075"
     ]
    },
    {
     "name": "stderr",
     "output_type": "stream",
     "text": [
      "Corrupt JPEG data: 128 extraneous bytes before marker 0xd9\n"
     ]
    },
    {
     "name": "stdout",
     "output_type": "stream",
     "text": [
      "444/586 [=====================>........] - ETA: 23s - loss: 0.2276 - accuracy: 0.9070"
     ]
    },
    {
     "name": "stderr",
     "output_type": "stream",
     "text": [
      "Corrupt JPEG data: 65 extraneous bytes before marker 0xd9\n"
     ]
    },
    {
     "name": "stdout",
     "output_type": "stream",
     "text": [
      "456/586 [======================>.......] - ETA: 21s - loss: 0.2269 - accuracy: 0.9073"
     ]
    },
    {
     "name": "stderr",
     "output_type": "stream",
     "text": [
      "Corrupt JPEG data: 396 extraneous bytes before marker 0xd9\n"
     ]
    },
    {
     "name": "stdout",
     "output_type": "stream",
     "text": [
      "463/586 [======================>.......] - ETA: 20s - loss: 0.2274 - accuracy: 0.9067"
     ]
    },
    {
     "name": "stderr",
     "output_type": "stream",
     "text": [
      "Corrupt JPEG data: 239 extraneous bytes before marker 0xd9\n"
     ]
    },
    {
     "name": "stdout",
     "output_type": "stream",
     "text": [
      "586/586 [==============================] - ETA: 0s - loss: 0.2318 - accuracy: 0.9051"
     ]
    },
    {
     "name": "stderr",
     "output_type": "stream",
     "text": [
      "Corrupt JPEG data: 252 extraneous bytes before marker 0xd9\n",
      "Corrupt JPEG data: 1153 extraneous bytes before marker 0xd9\n",
      "Corrupt JPEG data: 162 extraneous bytes before marker 0xd9\n",
      "Corrupt JPEG data: 214 extraneous bytes before marker 0xd9\n",
      "Corrupt JPEG data: 99 extraneous bytes before marker 0xd9\n",
      "Corrupt JPEG data: 1403 extraneous bytes before marker 0xd9\n"
     ]
    },
    {
     "name": "stdout",
     "output_type": "stream",
     "text": [
      "586/586 [==============================] - 107s 183ms/step - loss: 0.2318 - accuracy: 0.9051 - val_loss: 0.3853 - val_accuracy: 0.8449\n",
      "Epoch 13/15\n"
     ]
    },
    {
     "name": "stderr",
     "output_type": "stream",
     "text": [
      "Corrupt JPEG data: 2226 extraneous bytes before marker 0xd9\n"
     ]
    },
    {
     "name": "stdout",
     "output_type": "stream",
     "text": [
      "326/586 [===============>..............] - ETA: 44s - loss: 0.2234 - accuracy: 0.9104"
     ]
    },
    {
     "name": "stderr",
     "output_type": "stream",
     "text": [
      "Corrupt JPEG data: 228 extraneous bytes before marker 0xd9\n"
     ]
    },
    {
     "name": "stdout",
     "output_type": "stream",
     "text": [
      "357/586 [=================>............] - ETA: 38s - loss: 0.2225 - accuracy: 0.9104"
     ]
    },
    {
     "name": "stderr",
     "output_type": "stream",
     "text": [
      "Warning: unknown JFIF revision number 0.00\n"
     ]
    },
    {
     "name": "stdout",
     "output_type": "stream",
     "text": [
      "435/586 [=====================>........] - ETA: 25s - loss: 0.2236 - accuracy: 0.9099"
     ]
    },
    {
     "name": "stderr",
     "output_type": "stream",
     "text": [
      "Corrupt JPEG data: 128 extraneous bytes before marker 0xd9\n"
     ]
    },
    {
     "name": "stdout",
     "output_type": "stream",
     "text": [
      "444/586 [=====================>........] - ETA: 24s - loss: 0.2232 - accuracy: 0.9102"
     ]
    },
    {
     "name": "stderr",
     "output_type": "stream",
     "text": [
      "Corrupt JPEG data: 65 extraneous bytes before marker 0xd9\n"
     ]
    },
    {
     "name": "stdout",
     "output_type": "stream",
     "text": [
      "456/586 [======================>.......] - ETA: 22s - loss: 0.2223 - accuracy: 0.9107"
     ]
    },
    {
     "name": "stderr",
     "output_type": "stream",
     "text": [
      "Corrupt JPEG data: 396 extraneous bytes before marker 0xd9\n"
     ]
    },
    {
     "name": "stdout",
     "output_type": "stream",
     "text": [
      "463/586 [======================>.......] - ETA: 20s - loss: 0.2217 - accuracy: 0.9108"
     ]
    },
    {
     "name": "stderr",
     "output_type": "stream",
     "text": [
      "Corrupt JPEG data: 239 extraneous bytes before marker 0xd9\n"
     ]
    },
    {
     "name": "stdout",
     "output_type": "stream",
     "text": [
      "585/586 [============================>.] - ETA: 0s - loss: 0.2200 - accuracy: 0.9105"
     ]
    },
    {
     "name": "stderr",
     "output_type": "stream",
     "text": [
      "Corrupt JPEG data: 252 extraneous bytes before marker 0xd9\n",
      "Corrupt JPEG data: 1153 extraneous bytes before marker 0xd9\n",
      "Corrupt JPEG data: 162 extraneous bytes before marker 0xd9\n",
      "Corrupt JPEG data: 214 extraneous bytes before marker 0xd9\n",
      "Corrupt JPEG data: 99 extraneous bytes before marker 0xd9\n",
      "Corrupt JPEG data: 1403 extraneous bytes before marker 0xd9\n"
     ]
    },
    {
     "name": "stdout",
     "output_type": "stream",
     "text": [
      "586/586 [==============================] - 107s 183ms/step - loss: 0.2199 - accuracy: 0.9106 - val_loss: 0.4260 - val_accuracy: 0.8328\n",
      "Epoch 14/15\n"
     ]
    },
    {
     "name": "stderr",
     "output_type": "stream",
     "text": [
      "Corrupt JPEG data: 2226 extraneous bytes before marker 0xd9\n"
     ]
    },
    {
     "name": "stdout",
     "output_type": "stream",
     "text": [
      "326/586 [===============>..............] - ETA: 43s - loss: 0.2141 - accuracy: 0.9101"
     ]
    },
    {
     "name": "stderr",
     "output_type": "stream",
     "text": [
      "Corrupt JPEG data: 228 extraneous bytes before marker 0xd9\n"
     ]
    },
    {
     "name": "stdout",
     "output_type": "stream",
     "text": [
      "357/586 [=================>............] - ETA: 38s - loss: 0.2119 - accuracy: 0.9106"
     ]
    },
    {
     "name": "stderr",
     "output_type": "stream",
     "text": [
      "Warning: unknown JFIF revision number 0.00\n"
     ]
    },
    {
     "name": "stdout",
     "output_type": "stream",
     "text": [
      "435/586 [=====================>........] - ETA: 25s - loss: 0.2092 - accuracy: 0.9117"
     ]
    },
    {
     "name": "stderr",
     "output_type": "stream",
     "text": [
      "Corrupt JPEG data: 128 extraneous bytes before marker 0xd9\n"
     ]
    },
    {
     "name": "stdout",
     "output_type": "stream",
     "text": [
      "444/586 [=====================>........] - ETA: 24s - loss: 0.2080 - accuracy: 0.9123"
     ]
    },
    {
     "name": "stderr",
     "output_type": "stream",
     "text": [
      "Corrupt JPEG data: 65 extraneous bytes before marker 0xd9\n"
     ]
    },
    {
     "name": "stdout",
     "output_type": "stream",
     "text": [
      "456/586 [======================>.......] - ETA: 22s - loss: 0.2078 - accuracy: 0.9124"
     ]
    },
    {
     "name": "stderr",
     "output_type": "stream",
     "text": [
      "Corrupt JPEG data: 396 extraneous bytes before marker 0xd9\n"
     ]
    },
    {
     "name": "stdout",
     "output_type": "stream",
     "text": [
      "463/586 [======================>.......] - ETA: 21s - loss: 0.2074 - accuracy: 0.9127"
     ]
    },
    {
     "name": "stderr",
     "output_type": "stream",
     "text": [
      "Corrupt JPEG data: 239 extraneous bytes before marker 0xd9\n"
     ]
    },
    {
     "name": "stdout",
     "output_type": "stream",
     "text": [
      "585/586 [============================>.] - ETA: 0s - loss: 0.2056 - accuracy: 0.9141"
     ]
    },
    {
     "name": "stderr",
     "output_type": "stream",
     "text": [
      "Corrupt JPEG data: 252 extraneous bytes before marker 0xd9\n",
      "Corrupt JPEG data: 1153 extraneous bytes before marker 0xd9\n",
      "Corrupt JPEG data: 162 extraneous bytes before marker 0xd9\n",
      "Corrupt JPEG data: 214 extraneous bytes before marker 0xd9\n",
      "Corrupt JPEG data: 99 extraneous bytes before marker 0xd9\n",
      "Corrupt JPEG data: 1403 extraneous bytes before marker 0xd9\n"
     ]
    },
    {
     "name": "stdout",
     "output_type": "stream",
     "text": [
      "586/586 [==============================] - 108s 184ms/step - loss: 0.2058 - accuracy: 0.9140 - val_loss: 0.5277 - val_accuracy: 0.8031\n",
      "Epoch 15/15\n"
     ]
    },
    {
     "name": "stderr",
     "output_type": "stream",
     "text": [
      "Corrupt JPEG data: 2226 extraneous bytes before marker 0xd9\n"
     ]
    },
    {
     "name": "stdout",
     "output_type": "stream",
     "text": [
      "326/586 [===============>..............] - ETA: 44s - loss: 0.2211 - accuracy: 0.9082"
     ]
    },
    {
     "name": "stderr",
     "output_type": "stream",
     "text": [
      "Corrupt JPEG data: 228 extraneous bytes before marker 0xd9\n"
     ]
    },
    {
     "name": "stdout",
     "output_type": "stream",
     "text": [
      "357/586 [=================>............] - ETA: 38s - loss: 0.2179 - accuracy: 0.9096"
     ]
    },
    {
     "name": "stderr",
     "output_type": "stream",
     "text": [
      "Warning: unknown JFIF revision number 0.00\n"
     ]
    },
    {
     "name": "stdout",
     "output_type": "stream",
     "text": [
      "434/586 [=====================>........] - ETA: 26s - loss: 0.2142 - accuracy: 0.9112"
     ]
    },
    {
     "name": "stderr",
     "output_type": "stream",
     "text": [
      "Corrupt JPEG data: 128 extraneous bytes before marker 0xd9\n"
     ]
    },
    {
     "name": "stdout",
     "output_type": "stream",
     "text": [
      "444/586 [=====================>........] - ETA: 24s - loss: 0.2140 - accuracy: 0.9111"
     ]
    },
    {
     "name": "stderr",
     "output_type": "stream",
     "text": [
      "Corrupt JPEG data: 65 extraneous bytes before marker 0xd9\n"
     ]
    },
    {
     "name": "stdout",
     "output_type": "stream",
     "text": [
      "456/586 [======================>.......] - ETA: 22s - loss: 0.2141 - accuracy: 0.9108"
     ]
    },
    {
     "name": "stderr",
     "output_type": "stream",
     "text": [
      "Corrupt JPEG data: 396 extraneous bytes before marker 0xd9\n"
     ]
    },
    {
     "name": "stdout",
     "output_type": "stream",
     "text": [
      "463/586 [======================>.......] - ETA: 20s - loss: 0.2139 - accuracy: 0.9110"
     ]
    },
    {
     "name": "stderr",
     "output_type": "stream",
     "text": [
      "Corrupt JPEG data: 239 extraneous bytes before marker 0xd9\n"
     ]
    },
    {
     "name": "stdout",
     "output_type": "stream",
     "text": [
      "586/586 [==============================] - ETA: 0s - loss: 0.2125 - accuracy: 0.9119"
     ]
    },
    {
     "name": "stderr",
     "output_type": "stream",
     "text": [
      "Corrupt JPEG data: 252 extraneous bytes before marker 0xd9\n",
      "Corrupt JPEG data: 1153 extraneous bytes before marker 0xd9\n",
      "Corrupt JPEG data: 162 extraneous bytes before marker 0xd9\n",
      "Corrupt JPEG data: 214 extraneous bytes before marker 0xd9\n",
      "Corrupt JPEG data: 99 extraneous bytes before marker 0xd9\n",
      "Corrupt JPEG data: 1403 extraneous bytes before marker 0xd9\n"
     ]
    },
    {
     "name": "stdout",
     "output_type": "stream",
     "text": [
      "586/586 [==============================] - 106s 181ms/step - loss: 0.2125 - accuracy: 0.9119 - val_loss: 0.4609 - val_accuracy: 0.8167\n"
     ]
    },
    {
     "data": {
      "text/plain": [
       "<keras.callbacks.History at 0x7ff8c1e0f290>"
      ]
     },
     "execution_count": 7,
     "metadata": {},
     "output_type": "execute_result"
    }
   ],
   "source": [
    "model.compile(\n",
    "    loss='binary_crossentropy', \n",
    "    optimizer='adam', \n",
    "    metrics=['accuracy']\n",
    ")\n",
    "\n",
    "model.fit(\n",
    "    train_dataset, \n",
    "    validation_data=test_dataset,\n",
    "    epochs=15\n",
    ")"
   ]
  },
  {
   "cell_type": "code",
   "execution_count": 8,
   "id": "a8bf4bd9",
   "metadata": {
    "execution": {
     "iopub.execute_input": "2022-02-08T17:51:02.476807Z",
     "iopub.status.busy": "2022-02-08T17:51:02.476178Z",
     "iopub.status.idle": "2022-02-08T17:51:02.594389Z",
     "shell.execute_reply": "2022-02-08T17:51:02.594887Z",
     "shell.execute_reply.started": "2022-02-08T16:40:31.086757Z"
    },
    "id": "Z44l4W3xsV97",
    "papermill": {
     "duration": 2.350924,
     "end_time": "2022-02-08T17:51:02.595059",
     "exception": false,
     "start_time": "2022-02-08T17:51:00.244135",
     "status": "completed"
    },
    "tags": []
   },
   "outputs": [],
   "source": [
    "# Let's save the trained model\n",
    "keras.models.save_model(\n",
    "    model,\n",
    "    \"cats_dogs_classification_model.h5\"\n",
    ")"
   ]
  },
  {
   "cell_type": "markdown",
   "id": "e62829e0",
   "metadata": {
    "papermill": {
     "duration": 2.348179,
     "end_time": "2022-02-08T17:51:07.255588",
     "exception": false,
     "start_time": "2022-02-08T17:51:04.907409",
     "status": "completed"
    },
    "tags": []
   },
   "source": [
    "#### Let's download some images from Google and check how does it work!!!"
   ]
  },
  {
   "cell_type": "code",
   "execution_count": 9,
   "id": "f779b158",
   "metadata": {
    "execution": {
     "iopub.execute_input": "2022-02-08T17:51:11.723316Z",
     "iopub.status.busy": "2022-02-08T17:51:11.722651Z",
     "iopub.status.idle": "2022-02-08T17:51:12.058290Z",
     "shell.execute_reply": "2022-02-08T17:51:12.057272Z",
     "shell.execute_reply.started": "2022-02-08T17:06:24.816312Z"
    },
    "papermill": {
     "duration": 2.578575,
     "end_time": "2022-02-08T17:51:12.058637",
     "exception": true,
     "start_time": "2022-02-08T17:51:09.480062",
     "status": "failed"
    },
    "tags": []
   },
   "outputs": [
    {
     "ename": "NameError",
     "evalue": "name 'np' is not defined",
     "output_type": "error",
     "traceback": [
      "\u001b[0;31m---------------------------------------------------------------------------\u001b[0m",
      "\u001b[0;31mNameError\u001b[0m                                 Traceback (most recent call last)",
      "\u001b[0;32m/tmp/ipykernel_19/2875749196.py\u001b[0m in \u001b[0;36m<module>\u001b[0;34m\u001b[0m\n\u001b[1;32m      3\u001b[0m     \u001b[0mtest_image\u001b[0m \u001b[0;34m=\u001b[0m \u001b[0mimage\u001b[0m\u001b[0;34m.\u001b[0m\u001b[0mload_img\u001b[0m\u001b[0;34m(\u001b[0m\u001b[0;34m'../input/testimages/test'\u001b[0m \u001b[0;34m+\u001b[0m \u001b[0mstr\u001b[0m\u001b[0;34m(\u001b[0m\u001b[0mi\u001b[0m\u001b[0;34m)\u001b[0m \u001b[0;34m+\u001b[0m \u001b[0;34m\".jpg\"\u001b[0m\u001b[0;34m,\u001b[0m \u001b[0mtarget_size\u001b[0m \u001b[0;34m=\u001b[0m \u001b[0;34m(\u001b[0m\u001b[0;36m128\u001b[0m\u001b[0;34m,\u001b[0m \u001b[0;36m128\u001b[0m\u001b[0;34m)\u001b[0m\u001b[0;34m)\u001b[0m\u001b[0;34m\u001b[0m\u001b[0;34m\u001b[0m\u001b[0m\n\u001b[1;32m      4\u001b[0m     \u001b[0mtest_image\u001b[0m \u001b[0;34m=\u001b[0m \u001b[0mimage\u001b[0m\u001b[0;34m.\u001b[0m\u001b[0mimg_to_array\u001b[0m\u001b[0;34m(\u001b[0m\u001b[0mtest_image\u001b[0m\u001b[0;34m)\u001b[0m\u001b[0;34m\u001b[0m\u001b[0;34m\u001b[0m\u001b[0m\n\u001b[0;32m----> 5\u001b[0;31m     \u001b[0mtest_image\u001b[0m \u001b[0;34m=\u001b[0m \u001b[0mnp\u001b[0m\u001b[0;34m.\u001b[0m\u001b[0mexpand_dims\u001b[0m\u001b[0;34m(\u001b[0m\u001b[0mtest_image\u001b[0m\u001b[0;34m,\u001b[0m \u001b[0maxis\u001b[0m \u001b[0;34m=\u001b[0m \u001b[0;36m0\u001b[0m\u001b[0;34m)\u001b[0m\u001b[0;34m\u001b[0m\u001b[0;34m\u001b[0m\u001b[0m\n\u001b[0m\u001b[1;32m      6\u001b[0m     \u001b[0mresult\u001b[0m \u001b[0;34m=\u001b[0m \u001b[0mmodel\u001b[0m\u001b[0;34m.\u001b[0m\u001b[0mpredict\u001b[0m\u001b[0;34m(\u001b[0m\u001b[0mtest_image\u001b[0m\u001b[0;34m)\u001b[0m\u001b[0;34m\u001b[0m\u001b[0;34m\u001b[0m\u001b[0m\n\u001b[1;32m      7\u001b[0m     \u001b[0;32mif\u001b[0m \u001b[0mresult\u001b[0m\u001b[0;34m[\u001b[0m\u001b[0;36m0\u001b[0m\u001b[0;34m]\u001b[0m\u001b[0;34m[\u001b[0m\u001b[0;36m0\u001b[0m\u001b[0;34m]\u001b[0m\u001b[0;34m*\u001b[0m\u001b[0;36m100\u001b[0m \u001b[0;34m>\u001b[0m \u001b[0;36m50\u001b[0m\u001b[0;34m:\u001b[0m\u001b[0;34m\u001b[0m\u001b[0;34m\u001b[0m\u001b[0m\n",
      "\u001b[0;31mNameError\u001b[0m: name 'np' is not defined"
     ]
    }
   ],
   "source": [
    "from keras.preprocessing import image\n",
    "for i in range(1,8):\n",
    "    test_image = image.load_img('../input/testimages/test' + str(i) + \".jpg\", target_size = (128, 128))\n",
    "    test_image = image.img_to_array(test_image)\n",
    "    test_image = np.expand_dims(test_image, axis = 0)\n",
    "    result = model.predict(test_image)\n",
    "    if result[0][0]*100 > 50:\n",
    "        prediction = 'Dog'\n",
    "    elif result[0][0]*100 < 50:\n",
    "        prediction = 'Cat'\n",
    "    else:\n",
    "        prediction = 'Can not recognize!'\n",
    "    print(\"Your input : \" + prediction)"
   ]
  }
 ],
 "metadata": {
  "kernelspec": {
   "display_name": "Python 3",
   "language": "python",
   "name": "python3"
  },
  "language_info": {
   "codemirror_mode": {
    "name": "ipython",
    "version": 3
   },
   "file_extension": ".py",
   "mimetype": "text/x-python",
   "name": "python",
   "nbconvert_exporter": "python",
   "pygments_lexer": "ipython3",
   "version": "3.7.12"
  },
  "papermill": {
   "default_parameters": {},
   "duration": 2249.122683,
   "end_time": "2022-02-08T17:51:17.685114",
   "environment_variables": {},
   "exception": true,
   "input_path": "__notebook__.ipynb",
   "output_path": "__notebook__.ipynb",
   "parameters": {},
   "start_time": "2022-02-08T17:13:48.562431",
   "version": "2.3.3"
  }
 },
 "nbformat": 4,
 "nbformat_minor": 5
}
